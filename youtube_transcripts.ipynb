{
 "cells": [
  {
   "cell_type": "code",
   "execution_count": 1,
   "metadata": {},
   "outputs": [
    {
     "name": "stdout",
     "output_type": "stream",
     "text": [
      "Defaulting to user installation because normal site-packages is not writeable\n",
      "Collecting youtube-transcript-api\n",
      "  Downloading youtube_transcript_api-0.6.2-py3-none-any.whl.metadata (15 kB)\n",
      "Collecting openai\n",
      "  Downloading openai-1.51.2-py3-none-any.whl.metadata (24 kB)\n",
      "Requirement already satisfied: pyonepassword in c:\\users\\dup\\appdata\\roaming\\python\\python312\\site-packages (4.2.0)\n",
      "Requirement already satisfied: requests in c:\\users\\dup\\appdata\\roaming\\python\\python312\\site-packages (from youtube-transcript-api) (2.31.0)\n",
      "Requirement already satisfied: anyio<5,>=3.5.0 in c:\\users\\dup\\appdata\\roaming\\python\\python312\\site-packages (from openai) (4.2.0)\n",
      "Collecting distro<2,>=1.7.0 (from openai)\n",
      "  Using cached distro-1.9.0-py3-none-any.whl.metadata (6.8 kB)\n",
      "Requirement already satisfied: httpx<1,>=0.23.0 in c:\\users\\dup\\appdata\\roaming\\python\\python312\\site-packages (from openai) (0.26.0)\n",
      "Collecting jiter<1,>=0.4.0 (from openai)\n",
      "  Downloading jiter-0.6.1-cp312-none-win_amd64.whl.metadata (5.3 kB)\n",
      "Requirement already satisfied: pydantic<3,>=1.9.0 in c:\\users\\dup\\appdata\\roaming\\python\\python312\\site-packages (from openai) (2.5.3)\n",
      "Requirement already satisfied: sniffio in c:\\users\\dup\\appdata\\roaming\\python\\python312\\site-packages (from openai) (1.3.0)\n",
      "Requirement already satisfied: tqdm>4 in c:\\users\\dup\\appdata\\roaming\\python\\python312\\site-packages (from openai) (4.66.2)\n",
      "Collecting typing-extensions<5,>=4.11 (from openai)\n",
      "  Using cached typing_extensions-4.12.2-py3-none-any.whl.metadata (3.0 kB)\n",
      "Requirement already satisfied: python-singleton-metaclasses in c:\\users\\dup\\appdata\\roaming\\python\\python312\\site-packages (from pyonepassword) (0.2.1)\n",
      "Requirement already satisfied: idna>=2.8 in c:\\users\\dup\\appdata\\roaming\\python\\python312\\site-packages (from anyio<5,>=3.5.0->openai) (3.6)\n",
      "Requirement already satisfied: certifi in c:\\users\\dup\\appdata\\roaming\\python\\python312\\site-packages (from httpx<1,>=0.23.0->openai) (2023.11.17)\n",
      "Requirement already satisfied: httpcore==1.* in c:\\users\\dup\\appdata\\roaming\\python\\python312\\site-packages (from httpx<1,>=0.23.0->openai) (1.0.2)\n",
      "Requirement already satisfied: h11<0.15,>=0.13 in c:\\users\\dup\\appdata\\roaming\\python\\python312\\site-packages (from httpcore==1.*->httpx<1,>=0.23.0->openai) (0.14.0)\n",
      "Requirement already satisfied: annotated-types>=0.4.0 in c:\\users\\dup\\appdata\\roaming\\python\\python312\\site-packages (from pydantic<3,>=1.9.0->openai) (0.6.0)\n",
      "Requirement already satisfied: pydantic-core==2.14.6 in c:\\users\\dup\\appdata\\roaming\\python\\python312\\site-packages (from pydantic<3,>=1.9.0->openai) (2.14.6)\n",
      "Requirement already satisfied: colorama in c:\\users\\dup\\appdata\\roaming\\python\\python312\\site-packages (from tqdm>4->openai) (0.4.6)\n",
      "Requirement already satisfied: charset-normalizer<4,>=2 in c:\\users\\dup\\appdata\\roaming\\python\\python312\\site-packages (from requests->youtube-transcript-api) (3.3.2)\n",
      "Requirement already satisfied: urllib3<3,>=1.21.1 in c:\\users\\dup\\appdata\\roaming\\python\\python312\\site-packages (from requests->youtube-transcript-api) (2.1.0)\n",
      "Downloading youtube_transcript_api-0.6.2-py3-none-any.whl (24 kB)\n",
      "Downloading openai-1.51.2-py3-none-any.whl (383 kB)\n",
      "   ---------------------------------------- 0.0/383.7 kB ? eta -:--:--\n",
      "   ---------------------------------------- 383.7/383.7 kB 7.9 MB/s eta 0:00:00\n",
      "Using cached distro-1.9.0-py3-none-any.whl (20 kB)\n",
      "Downloading jiter-0.6.1-cp312-none-win_amd64.whl (198 kB)\n",
      "   ---------------------------------------- 0.0/199.0 kB ? eta -:--:--\n",
      "   --------------------------------------- 199.0/199.0 kB 11.8 MB/s eta 0:00:00\n",
      "Using cached typing_extensions-4.12.2-py3-none-any.whl (37 kB)\n",
      "Installing collected packages: typing-extensions, jiter, distro, youtube-transcript-api, openai\n",
      "  Attempting uninstall: typing-extensions\n",
      "    Found existing installation: typing_extensions 4.9.0\n",
      "    Uninstalling typing_extensions-4.9.0:\n",
      "      Successfully uninstalled typing_extensions-4.9.0\n",
      "Successfully installed distro-1.9.0 jiter-0.6.1 openai-1.51.2 typing-extensions-4.12.2 youtube-transcript-api-0.6.2\n",
      "Note: you may need to restart the kernel to use updated packages.\n"
     ]
    },
    {
     "name": "stderr",
     "output_type": "stream",
     "text": [
      "DEPRECATION: Loading egg at c:\\program files\\python312\\lib\\site-packages\\vboxapi-1.0-py3.12.egg is deprecated. pip 24.3 will enforce this behaviour change. A possible replacement is to use pip for package installation. Discussion can be found at https://github.com/pypa/pip/issues/12330\n",
      "\n",
      "[notice] A new release of pip is available: 24.1.2 -> 24.2\n",
      "[notice] To update, run: python.exe -m pip install --upgrade pip\n"
     ]
    }
   ],
   "source": [
    "%pip install youtube-transcript-api openai pyonepassword"
   ]
  },
  {
   "cell_type": "code",
   "execution_count": 2,
   "metadata": {},
   "outputs": [],
   "source": [
    "from youtube_transcript_api import YouTubeTranscriptApi\n",
    "from openai import OpenAI\n",
    "from pyonepassword import OP\n",
    "\n",
    "op = OP()\n",
    "openai_key = op.item_get('ociiuq6gchlgrjr2fopzbndrnq').credential\n",
    "client = OpenAI(api_key=openai_key)"
   ]
  },
  {
   "cell_type": "code",
   "execution_count": 3,
   "metadata": {},
   "outputs": [
    {
     "ename": "TranscriptsDisabled",
     "evalue": "\nCould not retrieve a transcript for the video https://www.youtube.com/watch?v=HLYrKbZY9YQ! This is most likely caused by:\n\nSubtitles are disabled for this video\n\nIf you are sure that the described cause is not responsible for this error and that a transcript should be retrievable, please create an issue at https://github.com/jdepoix/youtube-transcript-api/issues. Please add which version of youtube_transcript_api you are using and provide the information needed to replicate the error. Also make sure that there are no open issues which already describe your problem!",
     "output_type": "error",
     "traceback": [
      "\u001b[1;31m---------------------------------------------------------------------------\u001b[0m",
      "\u001b[1;31mTranscriptsDisabled\u001b[0m                       Traceback (most recent call last)",
      "Cell \u001b[1;32mIn[3], line 2\u001b[0m\n\u001b[0;32m      1\u001b[0m video_id \u001b[38;5;241m=\u001b[39m \u001b[38;5;124m\"\u001b[39m\u001b[38;5;124mHLYrKbZY9YQ\u001b[39m\u001b[38;5;124m\"\u001b[39m \u001b[38;5;66;03m# ID from video URL\u001b[39;00m\n\u001b[1;32m----> 2\u001b[0m transcript \u001b[38;5;241m=\u001b[39m \u001b[43mYouTubeTranscriptApi\u001b[49m\u001b[38;5;241;43m.\u001b[39;49m\u001b[43mget_transcript\u001b[49m\u001b[43m(\u001b[49m\u001b[43mvideo_id\u001b[49m\u001b[43m)\u001b[49m\n\u001b[0;32m      3\u001b[0m full_transcript \u001b[38;5;241m=\u001b[39m \u001b[38;5;124m'\u001b[39m\u001b[38;5;124m \u001b[39m\u001b[38;5;124m'\u001b[39m\u001b[38;5;241m.\u001b[39mjoin(entry[\u001b[38;5;124m'\u001b[39m\u001b[38;5;124mtext\u001b[39m\u001b[38;5;124m'\u001b[39m] \u001b[38;5;28;01mfor\u001b[39;00m entry \u001b[38;5;129;01min\u001b[39;00m transcript)\n",
      "File \u001b[1;32m~\\AppData\\Roaming\\Python\\Python312\\site-packages\\youtube_transcript_api\\_api.py:137\u001b[0m, in \u001b[0;36mYouTubeTranscriptApi.get_transcript\u001b[1;34m(cls, video_id, languages, proxies, cookies, preserve_formatting)\u001b[0m\n\u001b[0;32m    116\u001b[0m \u001b[38;5;250m\u001b[39m\u001b[38;5;124;03m\"\"\"\u001b[39;00m\n\u001b[0;32m    117\u001b[0m \u001b[38;5;124;03mRetrieves the transcript for a single video. This is just a shortcut for calling::\u001b[39;00m\n\u001b[0;32m    118\u001b[0m \n\u001b[1;32m   (...)\u001b[0m\n\u001b[0;32m    134\u001b[0m \u001b[38;5;124;03m:rtype [{'text': str, 'start': float, 'end': float}]:\u001b[39;00m\n\u001b[0;32m    135\u001b[0m \u001b[38;5;124;03m\"\"\"\u001b[39;00m\n\u001b[0;32m    136\u001b[0m \u001b[38;5;28;01massert\u001b[39;00m \u001b[38;5;28misinstance\u001b[39m(video_id, \u001b[38;5;28mstr\u001b[39m), \u001b[38;5;124m\"\u001b[39m\u001b[38;5;124m`video_id` must be a string\u001b[39m\u001b[38;5;124m\"\u001b[39m\n\u001b[1;32m--> 137\u001b[0m \u001b[38;5;28;01mreturn\u001b[39;00m \u001b[38;5;28;43mcls\u001b[39;49m\u001b[38;5;241;43m.\u001b[39;49m\u001b[43mlist_transcripts\u001b[49m\u001b[43m(\u001b[49m\u001b[43mvideo_id\u001b[49m\u001b[43m,\u001b[49m\u001b[43m \u001b[49m\u001b[43mproxies\u001b[49m\u001b[43m,\u001b[49m\u001b[43m \u001b[49m\u001b[43mcookies\u001b[49m\u001b[43m)\u001b[49m\u001b[38;5;241m.\u001b[39mfind_transcript(languages)\u001b[38;5;241m.\u001b[39mfetch(preserve_formatting\u001b[38;5;241m=\u001b[39mpreserve_formatting)\n",
      "File \u001b[1;32m~\\AppData\\Roaming\\Python\\Python312\\site-packages\\youtube_transcript_api\\_api.py:71\u001b[0m, in \u001b[0;36mYouTubeTranscriptApi.list_transcripts\u001b[1;34m(cls, video_id, proxies, cookies)\u001b[0m\n\u001b[0;32m     69\u001b[0m     http_client\u001b[38;5;241m.\u001b[39mcookies \u001b[38;5;241m=\u001b[39m \u001b[38;5;28mcls\u001b[39m\u001b[38;5;241m.\u001b[39m_load_cookies(cookies, video_id)\n\u001b[0;32m     70\u001b[0m http_client\u001b[38;5;241m.\u001b[39mproxies \u001b[38;5;241m=\u001b[39m proxies \u001b[38;5;28;01mif\u001b[39;00m proxies \u001b[38;5;28;01melse\u001b[39;00m {}\n\u001b[1;32m---> 71\u001b[0m \u001b[38;5;28;01mreturn\u001b[39;00m \u001b[43mTranscriptListFetcher\u001b[49m\u001b[43m(\u001b[49m\u001b[43mhttp_client\u001b[49m\u001b[43m)\u001b[49m\u001b[38;5;241;43m.\u001b[39;49m\u001b[43mfetch\u001b[49m\u001b[43m(\u001b[49m\u001b[43mvideo_id\u001b[49m\u001b[43m)\u001b[49m\n",
      "File \u001b[1;32m~\\AppData\\Roaming\\Python\\Python312\\site-packages\\youtube_transcript_api\\_transcripts.py:48\u001b[0m, in \u001b[0;36mTranscriptListFetcher.fetch\u001b[1;34m(self, video_id)\u001b[0m\n\u001b[0;32m     44\u001b[0m \u001b[38;5;28;01mdef\u001b[39;00m \u001b[38;5;21mfetch\u001b[39m(\u001b[38;5;28mself\u001b[39m, video_id):\n\u001b[0;32m     45\u001b[0m     \u001b[38;5;28;01mreturn\u001b[39;00m TranscriptList\u001b[38;5;241m.\u001b[39mbuild(\n\u001b[0;32m     46\u001b[0m         \u001b[38;5;28mself\u001b[39m\u001b[38;5;241m.\u001b[39m_http_client,\n\u001b[0;32m     47\u001b[0m         video_id,\n\u001b[1;32m---> 48\u001b[0m         \u001b[38;5;28;43mself\u001b[39;49m\u001b[38;5;241;43m.\u001b[39;49m\u001b[43m_extract_captions_json\u001b[49m\u001b[43m(\u001b[49m\u001b[38;5;28;43mself\u001b[39;49m\u001b[38;5;241;43m.\u001b[39;49m\u001b[43m_fetch_video_html\u001b[49m\u001b[43m(\u001b[49m\u001b[43mvideo_id\u001b[49m\u001b[43m)\u001b[49m\u001b[43m,\u001b[49m\u001b[43m \u001b[49m\u001b[43mvideo_id\u001b[49m\u001b[43m)\u001b[49m,\n\u001b[0;32m     49\u001b[0m     )\n",
      "File \u001b[1;32m~\\AppData\\Roaming\\Python\\Python312\\site-packages\\youtube_transcript_api\\_transcripts.py:62\u001b[0m, in \u001b[0;36mTranscriptListFetcher._extract_captions_json\u001b[1;34m(self, html, video_id)\u001b[0m\n\u001b[0;32m     59\u001b[0m     \u001b[38;5;28;01mif\u001b[39;00m \u001b[38;5;124m'\u001b[39m\u001b[38;5;124m\"\u001b[39m\u001b[38;5;124mplayabilityStatus\u001b[39m\u001b[38;5;124m\"\u001b[39m\u001b[38;5;124m:\u001b[39m\u001b[38;5;124m'\u001b[39m \u001b[38;5;129;01mnot\u001b[39;00m \u001b[38;5;129;01min\u001b[39;00m html:\n\u001b[0;32m     60\u001b[0m         \u001b[38;5;28;01mraise\u001b[39;00m VideoUnavailable(video_id)\n\u001b[1;32m---> 62\u001b[0m     \u001b[38;5;28;01mraise\u001b[39;00m TranscriptsDisabled(video_id)\n\u001b[0;32m     64\u001b[0m captions_json \u001b[38;5;241m=\u001b[39m json\u001b[38;5;241m.\u001b[39mloads(\n\u001b[0;32m     65\u001b[0m     splitted_html[\u001b[38;5;241m1\u001b[39m]\u001b[38;5;241m.\u001b[39msplit(\u001b[38;5;124m'\u001b[39m\u001b[38;5;124m,\u001b[39m\u001b[38;5;124m\"\u001b[39m\u001b[38;5;124mvideoDetails\u001b[39m\u001b[38;5;124m'\u001b[39m)[\u001b[38;5;241m0\u001b[39m]\u001b[38;5;241m.\u001b[39mreplace(\u001b[38;5;124m'\u001b[39m\u001b[38;5;130;01m\\n\u001b[39;00m\u001b[38;5;124m'\u001b[39m, \u001b[38;5;124m'\u001b[39m\u001b[38;5;124m'\u001b[39m)\n\u001b[0;32m     66\u001b[0m )\u001b[38;5;241m.\u001b[39mget(\u001b[38;5;124m'\u001b[39m\u001b[38;5;124mplayerCaptionsTracklistRenderer\u001b[39m\u001b[38;5;124m'\u001b[39m)\n\u001b[0;32m     67\u001b[0m \u001b[38;5;28;01mif\u001b[39;00m captions_json \u001b[38;5;129;01mis\u001b[39;00m \u001b[38;5;28;01mNone\u001b[39;00m:\n",
      "\u001b[1;31mTranscriptsDisabled\u001b[0m: \nCould not retrieve a transcript for the video https://www.youtube.com/watch?v=HLYrKbZY9YQ! This is most likely caused by:\n\nSubtitles are disabled for this video\n\nIf you are sure that the described cause is not responsible for this error and that a transcript should be retrievable, please create an issue at https://github.com/jdepoix/youtube-transcript-api/issues. Please add which version of youtube_transcript_api you are using and provide the information needed to replicate the error. Also make sure that there are no open issues which already describe your problem!"
     ]
    }
   ],
   "source": [
    "video_id = \"HLYrKbZY9YQ\" # ID from video URL\n",
    "transcript = YouTubeTranscriptApi.get_transcript(video_id)\n",
    "full_transcript = ' '.join(entry['text'] for entry in transcript)"
   ]
  },
  {
   "cell_type": "code",
   "execution_count": 31,
   "metadata": {},
   "outputs": [
    {
     "data": {
      "text/plain": [
       "\"In this stream, Tino shares concerns about Bitcoin's short-term outlook. He highlights that there is a surge in open interest due to high leverage and low actual trading volume, which poses a risk for a price correction. Tino advises traders to take profits if they're in positive positions, as relying on the current upward movement could be risky without substantial trading volume backing it. There is also talk about external factors, such as the Bank of Japan’s interest rate decisions, which could indirectly affect Bitcoin and broader market dynamics.\\n\\nTino points out that Bitcoin has been moving up and testing higher levels, with a significant zone around $70,000. However, he warns that a pullback could occur, given the lack of substantial volume. He discusses external market factors including tech stocks, the U.S. dollar's strength, and potential implications of an ETF that could affect crypto markets. Importantly, he mentions that whales have been accumulating Bitcoin but warns their selling at any slight profit margin could add pressure.\\n\\n**Directional Bias:** Cautiously bearish in the short term. Tino suggests taking some profits due to the risks posed by high leverage without real volume, especially given the location near a potential reversal point.\\n\\n**Reading Between the Lines:** Tino’s cautious stance indicates a potential for a shakeout, likely a planned market move to liquidate over-leveraged positions. He's implying that while Bitcoin is showing some upward movement, the lack of genuine volume could mean this is more of a trap than a sustainable rally. Tino’s continuous recommendation to take profits suggests he anticipates market volatility possibly leading to a downward move.\""
      ]
     },
     "execution_count": 31,
     "metadata": {},
     "output_type": "execute_result"
    }
   ],
   "source": [
    "chat_completion = client.chat.completions.create(\n",
    "    model=\"gpt-4o\",\n",
    "    messages=[\n",
    "        { \"role\": \"system\", \"content\": \"You summarize youtube transcripts to help traders determine a directional bias and have a profitable day.\" },\n",
    "        {\n",
    "            \"role\": \"user\",\n",
    "            \"content\": f\"Summarize the transcript and determine Tino's directional bias. Also read between the lines to determine what's actually being said and explain. Transcript: {full_transcript}\",\n",
    "        }\n",
    "    ])\n",
    "chat_completion.choices[0].message.content"
   ]
  }
 ],
 "metadata": {
  "kernelspec": {
   "display_name": "Python 3",
   "language": "python",
   "name": "python3"
  },
  "language_info": {
   "codemirror_mode": {
    "name": "ipython",
    "version": 3
   },
   "file_extension": ".py",
   "mimetype": "text/x-python",
   "name": "python",
   "nbconvert_exporter": "python",
   "pygments_lexer": "ipython3",
   "version": "3.12.1"
  }
 },
 "nbformat": 4,
 "nbformat_minor": 2
}
