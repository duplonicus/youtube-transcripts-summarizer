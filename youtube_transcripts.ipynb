{
 "cells": [
  {
   "cell_type": "markdown",
   "metadata": {},
   "source": [
    "## Requirements"
   ]
  },
  {
   "cell_type": "code",
   "execution_count": 54,
   "metadata": {},
   "outputs": [
    {
     "name": "stdout",
     "output_type": "stream",
     "text": [
      "Defaulting to user installation because normal site-packages is not writeable\n",
      "Requirement already satisfied: youtube-transcript-api in c:\\users\\dup\\appdata\\roaming\\python\\python312\\site-packages (0.6.2)\n",
      "Requirement already satisfied: openai in c:\\users\\dup\\appdata\\roaming\\python\\python312\\site-packages (1.51.2)\n",
      "Requirement already satisfied: pyonepassword in c:\\users\\dup\\appdata\\roaming\\python\\python312\\site-packages (4.2.0)\n",
      "Requirement already satisfied: sqlite_utils in c:\\users\\dup\\appdata\\roaming\\python\\python312\\site-packages (3.37)\n",
      "Requirement already satisfied: requests in c:\\users\\dup\\appdata\\roaming\\python\\python312\\site-packages (from youtube-transcript-api) (2.31.0)\n",
      "Requirement already satisfied: anyio<5,>=3.5.0 in c:\\users\\dup\\appdata\\roaming\\python\\python312\\site-packages (from openai) (4.2.0)\n",
      "Requirement already satisfied: distro<2,>=1.7.0 in c:\\users\\dup\\appdata\\roaming\\python\\python312\\site-packages (from openai) (1.9.0)\n",
      "Requirement already satisfied: httpx<1,>=0.23.0 in c:\\users\\dup\\appdata\\roaming\\python\\python312\\site-packages (from openai) (0.26.0)\n",
      "Requirement already satisfied: jiter<1,>=0.4.0 in c:\\users\\dup\\appdata\\roaming\\python\\python312\\site-packages (from openai) (0.6.1)\n",
      "Requirement already satisfied: pydantic<3,>=1.9.0 in c:\\users\\dup\\appdata\\roaming\\python\\python312\\site-packages (from openai) (2.5.3)\n",
      "Requirement already satisfied: sniffio in c:\\users\\dup\\appdata\\roaming\\python\\python312\\site-packages (from openai) (1.3.0)\n",
      "Requirement already satisfied: tqdm>4 in c:\\users\\dup\\appdata\\roaming\\python\\python312\\site-packages (from openai) (4.66.2)\n",
      "Requirement already satisfied: typing-extensions<5,>=4.11 in c:\\users\\dup\\appdata\\roaming\\python\\python312\\site-packages (from openai) (4.12.2)\n",
      "Requirement already satisfied: python-singleton-metaclasses in c:\\users\\dup\\appdata\\roaming\\python\\python312\\site-packages (from pyonepassword) (0.2.1)\n",
      "Requirement already satisfied: sqlite-fts4 in c:\\users\\dup\\appdata\\roaming\\python\\python312\\site-packages (from sqlite_utils) (1.0.3)\n",
      "Requirement already satisfied: click in c:\\users\\dup\\appdata\\roaming\\python\\python312\\site-packages (from sqlite_utils) (8.1.7)\n",
      "Requirement already satisfied: click-default-group>=1.2.3 in c:\\users\\dup\\appdata\\roaming\\python\\python312\\site-packages (from sqlite_utils) (1.2.4)\n",
      "Requirement already satisfied: tabulate in c:\\users\\dup\\appdata\\roaming\\python\\python312\\site-packages (from sqlite_utils) (0.9.0)\n",
      "Requirement already satisfied: python-dateutil in c:\\users\\dup\\appdata\\roaming\\python\\python312\\site-packages (from sqlite_utils) (2.8.2)\n",
      "Requirement already satisfied: pluggy in c:\\users\\dup\\appdata\\roaming\\python\\python312\\site-packages (from sqlite_utils) (1.5.0)\n",
      "Requirement already satisfied: idna>=2.8 in c:\\users\\dup\\appdata\\roaming\\python\\python312\\site-packages (from anyio<5,>=3.5.0->openai) (3.6)\n",
      "Requirement already satisfied: certifi in c:\\users\\dup\\appdata\\roaming\\python\\python312\\site-packages (from httpx<1,>=0.23.0->openai) (2023.11.17)\n",
      "Requirement already satisfied: httpcore==1.* in c:\\users\\dup\\appdata\\roaming\\python\\python312\\site-packages (from httpx<1,>=0.23.0->openai) (1.0.2)\n",
      "Requirement already satisfied: h11<0.15,>=0.13 in c:\\users\\dup\\appdata\\roaming\\python\\python312\\site-packages (from httpcore==1.*->httpx<1,>=0.23.0->openai) (0.14.0)\n",
      "Requirement already satisfied: annotated-types>=0.4.0 in c:\\users\\dup\\appdata\\roaming\\python\\python312\\site-packages (from pydantic<3,>=1.9.0->openai) (0.6.0)\n",
      "Requirement already satisfied: pydantic-core==2.14.6 in c:\\users\\dup\\appdata\\roaming\\python\\python312\\site-packages (from pydantic<3,>=1.9.0->openai) (2.14.6)\n",
      "Requirement already satisfied: colorama in c:\\users\\dup\\appdata\\roaming\\python\\python312\\site-packages (from tqdm>4->openai) (0.4.6)\n",
      "Requirement already satisfied: six>=1.5 in c:\\users\\dup\\appdata\\roaming\\python\\python312\\site-packages (from python-dateutil->sqlite_utils) (1.16.0)\n",
      "Requirement already satisfied: charset-normalizer<4,>=2 in c:\\users\\dup\\appdata\\roaming\\python\\python312\\site-packages (from requests->youtube-transcript-api) (3.3.2)\n",
      "Requirement already satisfied: urllib3<3,>=1.21.1 in c:\\users\\dup\\appdata\\roaming\\python\\python312\\site-packages (from requests->youtube-transcript-api) (2.1.0)\n",
      "Note: you may need to restart the kernel to use updated packages.\n"
     ]
    },
    {
     "name": "stderr",
     "output_type": "stream",
     "text": [
      "DEPRECATION: Loading egg at c:\\program files\\python312\\lib\\site-packages\\vboxapi-1.0-py3.12.egg is deprecated. pip 24.3 will enforce this behaviour change. A possible replacement is to use pip for package installation. Discussion can be found at https://github.com/pypa/pip/issues/12330\n",
      "\n",
      "[notice] A new release of pip is available: 24.1.2 -> 24.3.1\n",
      "[notice] To update, run: python.exe -m pip install --upgrade pip\n"
     ]
    }
   ],
   "source": [
    "%pip install youtube-transcript-api openai pyonepassword sqlite_utils"
   ]
  },
  {
   "cell_type": "markdown",
   "metadata": {},
   "source": [
    "## Youtube transcript summarizer"
   ]
  },
  {
   "cell_type": "code",
   "execution_count": 55,
   "metadata": {},
   "outputs": [],
   "source": [
    "video_id = \"Wdnwt0COZGM\" # ID from video URL"
   ]
  },
  {
   "cell_type": "code",
   "execution_count": 56,
   "metadata": {},
   "outputs": [
    {
     "data": {
      "text/markdown": [
       "### Summary\n",
       "Tino is sharing his insights on a challenging trading day with significant market movements. He highlights the unpredictability of trading, using his break-even trade on the NASDAQ as an example. Tino discusses market jitters due to geopolitical tensions involving Israel, affecting investor sentiment. He notes a mix of reactions in the stock market, with Amazon doing well while others like Apple have not. Tino is also concerned about possible impacts from upcoming economic data, specifically the U.S. non-farm payrolls. He explores the threat of inflation and interest rates in regard to the bond market. \n",
       "\n",
       "### Tino's Directional Bias\n",
       "- **Bitcoin**: He notes potential down movements but is holding a cautious view, especially with the non-farm payrolls data pending.\n",
       "- **NASDAQ**: He exhibits a tentative bias towards a recovery after a drop, citing Amazon's strong earnings as a potential catalyst.\n",
       "- **Gold**: Tino expects it to move upward amidst geopolitical tensions.\n",
       "  \n",
       "### Reading Between the Lines\n",
       "- Tino is cautious and looks to evaluate the broader implications of current events like geopolitical tensions and economic indicators on market movements.\n",
       "- He acknowledges market volatility influenced by bigger players, such as ETFs, and external factors like geopolitical events.\n",
       "- Tino is skeptical about long-term bullish scenarios without a substantial market correction or crash.\n",
       "\n",
       "### Personal Update\n",
       "Tino recently returned from Cyprus, where he implies he was not on vacation but working, as evident from his commitments to live streams and market analysis. He humorously references his lack of costumes for Halloween, leaning into a self-deprecating joke about his own appearance being scary enough. There was no significant personal development mentioned beyond his current activities related to the market and trading activities."
      ],
      "text/plain": [
       "<IPython.core.display.Markdown object>"
      ]
     },
     "metadata": {},
     "output_type": "display_data"
    }
   ],
   "source": [
    "from youtube_transcript_api import YouTubeTranscriptApi\n",
    "from openai import OpenAI\n",
    "from pyonepassword import OP\n",
    "\n",
    "op = OP()\n",
    "openai_key = op.item_get('ociiuq6gchlgrjr2fopzbndrnq').credential\n",
    "client = OpenAI(api_key=openai_key)\n",
    "\n",
    "transcript = YouTubeTranscriptApi.get_transcript(video_id) \n",
    "full_transcript = ' '.join(entry['text'] for entry in transcript) # Transcript is retuned in chunks for some reason\n",
    "\n",
    "model = \"gpt-4o\"\n",
    "chat_completion = client.chat.completions.create(\n",
    "    model=model,\n",
    "    messages=[\n",
    "        { \n",
    "            \"role\": \"system\", \n",
    "            \"content\": \"You summarize YouTube transcripts to help traders determine a directional bias and have a profitable day.\" \n",
    "        },\n",
    "        {\n",
    "            \"role\": \"user\",\n",
    "            \"content\": (\n",
    "                \"Summarize the transcript and determine Tino's directional bias. \"\n",
    "                \"Also read between the lines to determine what's actually being said and explain. \"\n",
    "                \"Use markdown formatting. \"\n",
    "                \"Write a personal update about Tino at the end if he mentions anything.\\n\\n\"\n",
    "                f\"Transcript: {full_transcript}\"\n",
    "            ),\n",
    "        }\n",
    "    ]\n",
    ")\n",
    "ai_explanation = chat_completion.choices[0].message.content\n",
    "\n",
    "from IPython.display import display, Markdown\n",
    "display(Markdown(ai_explanation))"
   ]
  },
  {
   "cell_type": "markdown",
   "metadata": {},
   "source": [
    "## Database"
   ]
  },
  {
   "cell_type": "code",
   "execution_count": 57,
   "metadata": {},
   "outputs": [
    {
     "name": "stdout",
     "output_type": "stream",
     "text": [
      "Video ID Wdnwt0COZGM already exists in the database.\n"
     ]
    }
   ],
   "source": [
    "from sqlite_utils import Database\n",
    "from datetime import datetime\n",
    "\n",
    "# Initialize the database\n",
    "db = Database(\"video_data.db\")\n",
    "table = \"video_analysis\"\n",
    "\n",
    "# Check for duplicate video_id\n",
    "if not db[table].exists() or not any(row['video_id'] == video_id for row in db[table].rows):\n",
    "    # Insert a new row into the video_analysis table\n",
    "    db[table].insert({\n",
    "        \"datetime\": datetime.now(),\n",
    "        \"video_id\": video_id,\n",
    "        \"transcript\": full_transcript,\n",
    "        \"model\": model,\n",
    "        \"ai_explanation\": ai_explanation\n",
    "    })\n",
    "else:\n",
    "    print(f\"Video ID {video_id} already exists in the database.\")"
   ]
  },
  {
   "cell_type": "markdown",
   "metadata": {},
   "source": [
    "## Possible future work:\n",
    "\n",
    "To enhance the morning summary for a day trader focusing on cryptocurrency, you can incorporate additional data points that provide a comprehensive view of the market. Here are some suggestions:\n",
    "\n",
    "1. **Market Sentiment Analysis**:\n",
    "   - Use sentiment analysis tools to gauge the overall market sentiment from social media platforms like Twitter, Reddit, and crypto forums.\n",
    "   - Incorporate sentiment scores or trends to provide insights into the general mood of the market.\n",
    "\n",
    "2. **Technical Indicators**:\n",
    "   - Include key technical indicators such as moving averages (e.g., 50-day, 200-day), RSI (Relative Strength Index), MACD (Moving Average Convergence Divergence), and Bollinger Bands.\n",
    "   - Highlight any significant technical patterns or signals (e.g., golden cross, death cross).\n",
    "   - Ben Cowan (into the crypto verso): bull market support band, dominance\n",
    "\n",
    "3. **News and Events**:\n",
    "   - Summarize recent news articles or headlines that could impact the crypto market, such as regulatory changes, major partnerships, or technological advancements.\n",
    "   - Include a calendar of upcoming events like earnings reports, economic data releases, or major conferences.\n",
    "\n",
    "4. **On-Chain Data**:\n",
    "   - Provide insights from on-chain data such as transaction volumes, active addresses, and large transactions (whale movements).\n",
    "   - Highlight any unusual activity that could indicate market manipulation or significant interest.\n",
    "\n",
    "5. **Volatility Index**:\n",
    "   - Include a measure of market volatility, such as the Crypto Volatility Index (CVI), to help traders assess potential risk levels.\n",
    "\n",
    "6. **Exchange Flows**:\n",
    "   - Track the inflow and outflow of cryptocurrencies on major exchanges to identify potential buying or selling pressure.\n",
    "\n",
    "7. **Correlation with Other Markets**:\n",
    "   - Analyze the correlation between cryptocurrencies and other asset classes like stocks, gold, or fiat currencies to understand broader market trends.\n",
    "\n",
    "8. **Regulatory Updates**:\n",
    "   - Provide updates on any regulatory developments that could affect the crypto market, such as new laws or enforcement actions.\n",
    "\n",
    "9. **Macro-Economic Indicators**:\n",
    "   - Include relevant macroeconomic indicators such as interest rates, inflation data, and employment figures that could influence market sentiment.\n",
    "\n",
    "10. **Community and Developer Activity**:\n",
    "    - Track activity on platforms like GitHub to gauge the level of development and community engagement for specific cryptocurrencies.\n",
    "\n",
    "By incorporating these data points, you can provide a more holistic and actionable morning summary for day traders in the crypto market."
   ]
  },
  {
   "cell_type": "markdown",
   "metadata": {},
   "source": [
    "## Experiments"
   ]
  },
  {
   "cell_type": "code",
   "execution_count": 58,
   "metadata": {},
   "outputs": [
    {
     "name": "stdout",
     "output_type": "stream",
     "text": [
      "Defaulting to user installation because normal site-packages is not writeable\n",
      "Requirement already satisfied: tradingview-ta in c:\\users\\dup\\appdata\\roaming\\python\\python312\\site-packages (3.3.0)\n",
      "Requirement already satisfied: requests in c:\\users\\dup\\appdata\\roaming\\python\\python312\\site-packages (from tradingview-ta) (2.31.0)\n",
      "Requirement already satisfied: charset-normalizer<4,>=2 in c:\\users\\dup\\appdata\\roaming\\python\\python312\\site-packages (from requests->tradingview-ta) (3.3.2)\n",
      "Requirement already satisfied: idna<4,>=2.5 in c:\\users\\dup\\appdata\\roaming\\python\\python312\\site-packages (from requests->tradingview-ta) (3.6)\n",
      "Requirement already satisfied: urllib3<3,>=1.21.1 in c:\\users\\dup\\appdata\\roaming\\python\\python312\\site-packages (from requests->tradingview-ta) (2.1.0)\n",
      "Requirement already satisfied: certifi>=2017.4.17 in c:\\users\\dup\\appdata\\roaming\\python\\python312\\site-packages (from requests->tradingview-ta) (2023.11.17)\n",
      "Note: you may need to restart the kernel to use updated packages.\n"
     ]
    },
    {
     "name": "stderr",
     "output_type": "stream",
     "text": [
      "DEPRECATION: Loading egg at c:\\program files\\python312\\lib\\site-packages\\vboxapi-1.0-py3.12.egg is deprecated. pip 24.3 will enforce this behaviour change. A possible replacement is to use pip for package installation. Discussion can be found at https://github.com/pypa/pip/issues/12330\n",
      "\n",
      "[notice] A new release of pip is available: 24.1.2 -> 24.3.1\n",
      "[notice] To update, run: python.exe -m pip install --upgrade pip\n"
     ]
    }
   ],
   "source": [
    "%pip install tradingview-ta"
   ]
  },
  {
   "cell_type": "code",
   "execution_count": 59,
   "metadata": {},
   "outputs": [
    {
     "name": "stdout",
     "output_type": "stream",
     "text": [
      "BTCUSDT Futures {'RECOMMENDATION': 'BUY', 'BUY': 15, 'SELL': 1, 'NEUTRAL': 10}\n"
     ]
    }
   ],
   "source": [
    "from tradingview_ta import TA_Handler, Interval, Exchange\n",
    "\n",
    "btc = TA_Handler(\n",
    "    symbol=\"BTCUSDT.P\",\n",
    "    screener=\"crypto\",\n",
    "    exchange=\"binance\",\n",
    "    interval=Interval.INTERVAL_1_DAY\n",
    ")\n",
    "print(\"BTCUSDT Futures\", btc.get_analysis().summary)\n",
    "# Example output: {\"RECOMMENDATION\": \"BUY\", \"BUY\": 8, \"NEUTRAL\": 6, \"SELL\": 3}"
   ]
  },
  {
   "cell_type": "code",
   "execution_count": null,
   "metadata": {},
   "outputs": [],
   "source": []
  }
 ],
 "metadata": {
  "kernelspec": {
   "display_name": "Python 3",
   "language": "python",
   "name": "python3"
  },
  "language_info": {
   "codemirror_mode": {
    "name": "ipython",
    "version": 3
   },
   "file_extension": ".py",
   "mimetype": "text/x-python",
   "name": "python",
   "nbconvert_exporter": "python",
   "pygments_lexer": "ipython3",
   "version": "3.12.1"
  }
 },
 "nbformat": 4,
 "nbformat_minor": 2
}
