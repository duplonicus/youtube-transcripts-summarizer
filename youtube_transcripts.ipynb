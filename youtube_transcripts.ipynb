{
 "cells": [
  {
   "cell_type": "markdown",
   "metadata": {},
   "source": [
    "## Requirements"
   ]
  },
  {
   "cell_type": "code",
   "execution_count": null,
   "metadata": {},
   "outputs": [
    {
     "name": "stdout",
     "output_type": "stream",
     "text": [
      "Requirement already satisfied: youtube-transcript-api in c:\\users\\dup\\dev\\.venv\\lib\\site-packages (0.6.3)\n",
      "Requirement already satisfied: openai in c:\\users\\dup\\dev\\.venv\\lib\\site-packages (1.61.1)\n",
      "Requirement already satisfied: pyonepassword in c:\\users\\dup\\dev\\.venv\\lib\\site-packages (5.1.0)\n",
      "Requirement already satisfied: sqlite_utils in c:\\users\\dup\\dev\\.venv\\lib\\site-packages (3.38)\n",
      "Requirement already satisfied: defusedxml<0.8.0,>=0.7.1 in c:\\users\\dup\\dev\\.venv\\lib\\site-packages (from youtube-transcript-api) (0.7.1)\n",
      "Requirement already satisfied: requests in c:\\users\\dup\\dev\\.venv\\lib\\site-packages (from youtube-transcript-api) (2.32.3)\n",
      "Requirement already satisfied: anyio<5,>=3.5.0 in c:\\users\\dup\\dev\\.venv\\lib\\site-packages (from openai) (4.8.0)\n",
      "Requirement already satisfied: distro<2,>=1.7.0 in c:\\users\\dup\\dev\\.venv\\lib\\site-packages (from openai) (1.9.0)\n",
      "Requirement already satisfied: httpx<1,>=0.23.0 in c:\\users\\dup\\dev\\.venv\\lib\\site-packages (from openai) (0.28.1)\n",
      "Requirement already satisfied: jiter<1,>=0.4.0 in c:\\users\\dup\\dev\\.venv\\lib\\site-packages (from openai) (0.8.2)\n",
      "Requirement already satisfied: pydantic<3,>=1.9.0 in c:\\users\\dup\\dev\\.venv\\lib\\site-packages (from openai) (2.10.6)\n",
      "Requirement already satisfied: sniffio in c:\\users\\dup\\dev\\.venv\\lib\\site-packages (from openai) (1.3.1)\n",
      "Requirement already satisfied: tqdm>4 in c:\\users\\dup\\dev\\.venv\\lib\\site-packages (from openai) (4.67.1)\n",
      "Requirement already satisfied: typing-extensions<5,>=4.11 in c:\\users\\dup\\dev\\.venv\\lib\\site-packages (from openai) (4.12.2)\n",
      "Requirement already satisfied: python-singleton-metaclasses in c:\\users\\dup\\dev\\.venv\\lib\\site-packages (from pyonepassword) (0.2.1)\n",
      "Requirement already satisfied: sqlite-fts4 in c:\\users\\dup\\dev\\.venv\\lib\\site-packages (from sqlite_utils) (1.0.3)\n",
      "Requirement already satisfied: click in c:\\users\\dup\\dev\\.venv\\lib\\site-packages (from sqlite_utils) (8.1.8)\n",
      "Requirement already satisfied: click-default-group>=1.2.3 in c:\\users\\dup\\dev\\.venv\\lib\\site-packages (from sqlite_utils) (1.2.4)\n",
      "Requirement already satisfied: tabulate in c:\\users\\dup\\dev\\.venv\\lib\\site-packages (from sqlite_utils) (0.9.0)\n",
      "Requirement already satisfied: python-dateutil in c:\\users\\dup\\dev\\.venv\\lib\\site-packages (from sqlite_utils) (2.9.0.post0)\n",
      "Requirement already satisfied: pluggy in c:\\users\\dup\\dev\\.venv\\lib\\site-packages (from sqlite_utils) (1.5.0)\n",
      "Requirement already satisfied: idna>=2.8 in c:\\users\\dup\\dev\\.venv\\lib\\site-packages (from anyio<5,>=3.5.0->openai) (3.10)\n",
      "Requirement already satisfied: certifi in c:\\users\\dup\\dev\\.venv\\lib\\site-packages (from httpx<1,>=0.23.0->openai) (2025.1.31)\n",
      "Requirement already satisfied: httpcore==1.* in c:\\users\\dup\\dev\\.venv\\lib\\site-packages (from httpx<1,>=0.23.0->openai) (1.0.7)\n",
      "Requirement already satisfied: h11<0.15,>=0.13 in c:\\users\\dup\\dev\\.venv\\lib\\site-packages (from httpcore==1.*->httpx<1,>=0.23.0->openai) (0.14.0)\n",
      "Requirement already satisfied: annotated-types>=0.6.0 in c:\\users\\dup\\dev\\.venv\\lib\\site-packages (from pydantic<3,>=1.9.0->openai) (0.7.0)\n",
      "Requirement already satisfied: pydantic-core==2.27.2 in c:\\users\\dup\\dev\\.venv\\lib\\site-packages (from pydantic<3,>=1.9.0->openai) (2.27.2)\n",
      "Requirement already satisfied: colorama in c:\\users\\dup\\dev\\.venv\\lib\\site-packages (from tqdm>4->openai) (0.4.6)\n",
      "Requirement already satisfied: six>=1.5 in c:\\users\\dup\\dev\\.venv\\lib\\site-packages (from python-dateutil->sqlite_utils) (1.16.0)\n",
      "Requirement already satisfied: charset-normalizer<4,>=2 in c:\\users\\dup\\dev\\.venv\\lib\\site-packages (from requests->youtube-transcript-api) (3.4.1)\n",
      "Requirement already satisfied: urllib3<3,>=1.21.1 in c:\\users\\dup\\dev\\.venv\\lib\\site-packages (from requests->youtube-transcript-api) (2.3.0)\n",
      "Note: you may need to restart the kernel to use updated packages.\n"
     ]
    },
    {
     "name": "stderr",
     "output_type": "stream",
     "text": [
      "\n",
      "[notice] A new release of pip is available: 24.1.2 -> 25.0\n",
      "[notice] To update, run: python.exe -m pip install --upgrade pip\n"
     ]
    }
   ],
   "source": [
    "%pip install youtube-transcript-api openai pyonepassword sqlite_utils anthropic"
   ]
  },
  {
   "cell_type": "markdown",
   "metadata": {},
   "source": [
    "## Youtube transcript summarizer"
   ]
  },
  {
   "cell_type": "code",
   "execution_count": 12,
   "metadata": {},
   "outputs": [],
   "source": [
    "video_id = \"1iGga9jCu_E\" # ID from video URL"
   ]
  },
  {
   "cell_type": "code",
   "execution_count": null,
   "metadata": {},
   "outputs": [
    {
     "data": {
      "text/markdown": [
       "### Thinking:\n",
       "\n",
       "I need to create a summary of the transcript focusing on Tino's directional bias for various assets while explaining what's \"actually\" being said (reading between the lines). I should use markdown formatting, include all asset pairs mentioned, and add a personal update about Tino at the end if mentioned.\n",
       "\n",
       "Let me identify all the asset pairs/markets discussed:\n",
       "1. Bitcoin (BTC)\n",
       "2. NASDAQ\n",
       "3. Nvidia (NVDA)\n",
       "4. Ethereum (ETH)\n",
       "5. Solana (SOL)\n",
       "6. XRP\n",
       "7. Euro\n",
       "8. US Dollar/Dollar dominance\n",
       "9. Oil\n",
       "10. MicroStrategy (MSTR)\n",
       "11. Bonds/2-year yield\n",
       "\n",
       "Now I'll analyze Tino's directional bias for each and read between the lines:"
      ],
      "text/plain": [
       "<IPython.core.display.Markdown object>"
      ]
     },
     "metadata": {},
     "output_type": "display_data"
    },
    {
     "data": {
      "text/markdown": [
       "### Response:\n",
       "\n",
       "# Tino's Market Analysis Summary\n",
       "\n",
       "## Bitcoin (BTC)\n",
       "**Directional Bias:** *Cautiously bullish short-term* after hitting predicted reversal level, but still wary of further downside.\n",
       "\n",
       "**What's Really Happening:** Tino believes the recent Bitcoin crash was manufactured by big players to induce panic selling from retail investors so institutions could accumulate at lower prices. He points to the \"disgusting\" bid orders and Coinbase premium index showing buying activity while retail panics. He's suggesting a potential bull trap where price might rise before another leg down.\n",
       "\n",
       "> \"They need to do something psychologically: retail's like 'Oh my God Bitcoin down Bitcoin down quickly sell sell sell I hate crypto I hate this.'\"\n",
       "\n",
       "## NASDAQ/Equity Markets\n",
       "**Directional Bias:** *Neutral to bearish* - describes it as \"embarrassing\" and in an \"XRP formation\" (sideways).\n",
       "\n",
       "**What's Really Happening:** Tino sees the market in a holding pattern due to caution around Trump's potential tariff announcements. He believes traders are waiting for Trump's statements before making significant moves, which explains the sideways action despite other indicators suggesting movement.\n",
       "\n",
       "## Nvidia (NVDA)\n",
       "**Directional Bias:** *Bearish* - notes it's \"gapping down\" and \"not doing too well.\"\n",
       "\n",
       "**What's Really Happening:** Tino mentions Nvidia is at \"discount\" levels, has closed a gap, and is approaching interesting price zones. He alludes to a correlation someone mentioned where if Nvidia drops to $80, Bitcoin would get \"smacked.\"\n",
       "\n",
       "## Ethereum (ETH)\n",
       "**Directional Bias:** *Bearish fulfilled* - projected drop to 2,123 was surpassed with ETH falling to 2,274.\n",
       "\n",
       "**What's Really Happening:** Tino is suggesting his analysis was correct about Ethereum clearing out the predicted wick, indicating his technical analysis approach is reliable.\n",
       "\n",
       "## Solana (SOL)\n",
       "**Directional Bias:** *Relatively bullish* compared to other cryptos - \"the only one that's been doing relatively well.\"\n",
       "\n",
       "**What's Really Happening:** Tino suspects potential market manipulation, noting that Binance denied manipulating Solana's price. He questions why SOL hasn't dropped as much as other cryptos, suggesting unusual support or buying pressure.\n",
       "\n",
       "## XRP\n",
       "**Directional Bias:** *Neutral* - \"not really doing too much\" at $21.10.\n",
       "\n",
       "**What's Really Happening:** Tino uses XRP as his reference for a sideways, non-moving market, even coining the term \"XRP formation\" to describe the NASDAQ's behavior.\n",
       "\n",
       "## Dollar Dominance/Euro\n",
       "**Directional Bias:** *Bullish on USD* - \"Dollar's going to 109.\"\n",
       "\n",
       "**What's Really Happening:** Tino believes the dollar is positioning for strength, especially if Trump announces tariffs. He sees the dollar consolidating before a move higher, which would likely put pressure on other assets.\n",
       "\n",
       "## Oil\n",
       "**Directional Bias:** *Bearish* - \"trading negative.\"\n",
       "\n",
       "**What's Really Happening:** Tino notes the traditional inverse relationship with stocks isn't working - lower oil should boost NASDAQ but it isn't, suggesting other factors (likely political uncertainty) are overpowering normal market relationships.\n",
       "\n",
       "## MicroStrategy (MSTR)\n",
       "**Directional Bias:** *Concerned* - \"they're going to be itching.\"\n",
       "\n",
       "**What's Really Happening:** Tino points out that MSTR's convertible bond buyers need Bitcoin to reach much higher levels to see returns, suggesting their aggressive Bitcoin accumulation strategy is facing serious pressure.\n",
       "\n",
       "## Bonds/Yields\n",
       "**Directional Bias:** *Noting downward yield movement* as potentially positive for stocks.\n",
       "\n",
       "**What's Really Happening:** Tino mentions the market concept that when 2-year yields hit 4%, it's traditionally a good time to buy stocks, implying a potential opportunity despite current market fear.\n",
       "\n",
       "---\n",
       "\n",
       "## Reading Between the Lines - Market Dynamics\n",
       "\n",
       "Tino is describing a market where:\n",
       "\n",
       "1. **Institutional manipulation** is driving crypto prices down to accumulate from panicking retail traders\n",
       "2. **Political uncertainty** from Trump's potential tariff announcements is keeping markets cautious\n",
       "3. **End-of-month effects** are contributing to volatility (noting the monthly candle structure)\n",
       "4. **Short covering** may drive a temporary rise in Bitcoin before potential further drops\n",
       "5. **Black Rock's ETF actions** are influencing Bitcoin prices through deposits and withdrawals\n",
       "\n",
       "His core message is that retail traders should be extremely cautious, use \"light size\" for positions, and understand that what appears to be a reversal could be a trap.\n",
       "\n",
       "---\n",
       "\n",
       "## Personal Update\n",
       "\n",
       "Tino mentioned he'll be \"stepping away from the charts today\" due to the uncertainty around Trump's upcoming statements and potential market impact. He appears frustrated with the political influence on markets, particularly noting how frequently Trump has appeared in the economic calendar this week. He'll return with a \"Monday flavor\" analysis after the weekend."
      ],
      "text/plain": [
       "<IPython.core.display.Markdown object>"
      ]
     },
     "metadata": {},
     "output_type": "display_data"
    }
   ],
   "source": [
    "from youtube_transcript_api import YouTubeTranscriptApi\n",
    "import anthropic\n",
    "from pyonepassword import OP\n",
    "\n",
    "op = OP()\n",
    "key = op.item_get('rj2spymqicqsgohimytxnkvwpa').credential\n",
    "client = anthropic.Anthropic(api_key=key)\n",
    "\n",
    "model = \"claude-3-7-sonnet-20250219\"\n",
    "\n",
    "transcript = YouTubeTranscriptApi.get_transcript(video_id) \n",
    "full_transcript = ' '.join(entry['text'] for entry in transcript) # Transcript is retuned in chunks for some reason\n",
    "\n",
    "response = client.messages.create(\n",
    "    model=\"claude-3-7-sonnet-20250219\",\n",
    "    max_tokens=2000,\n",
    "    thinking={\n",
    "        \"type\": \"enabled\",\n",
    "        \"budget_tokens\": 1024\n",
    "    },\n",
    "    messages=[\n",
    "        {\n",
    "            \"role\": \"user\",\n",
    "            \"content\": (\n",
    "                \"Summarize the transcript. If the video is about trading, summarize the trader's directional bias. \"\n",
    "                \"Also read between the lines to determine what's ACTUALLY being said and explain. \"\n",
    "                \"Use markdown formatting. Don't skip any asset pairs mentioned. \"\n",
    "                \"Write a personal update about the trader at the end if he mentions anything.\\n\\n\"\n",
    "                f\"Transcript: {full_transcript}\"\n",
    "            ),\n",
    "        }\n",
    "    ]\n",
    ")\n",
    "ai_thinking = response.content[0]\n",
    "ai_message = response.content[1]\n",
    "\n",
    "from IPython.display import display, Markdown\n",
    "display(Markdown(f\"### Thinking:\\n\\n{ai_thinking.thinking}\"))\n",
    "display(Markdown(f\"### Response:\\n\\n{ai_message.text}\"))"
   ]
  },
  {
   "cell_type": "code",
   "execution_count": 14,
   "metadata": {},
   "outputs": [
    {
     "data": {
      "text/plain": [
       "' from youtube_transcript_api import YouTubeTranscriptApi\\nfrom openai import OpenAI\\nfrom pyonepassword import OP\\n\\nop = OP()\\nopenai_key = op.item_get(\\'ociiuq6gchlgrjr2fopzbndrnq\\').credential\\nclient = OpenAI(api_key=openai_key)\\n\\ntranscript = YouTubeTranscriptApi.get_transcript(video_id) \\nfull_transcript = \\' \\'.join(entry[\\'text\\'] for entry in transcript) # Transcript is retuned in chunks for some reason\\n\\nmodel = \"gpt-4o\"\\nchat_completion = client.chat.completions.create(\\n    model=model,\\n    messages=[\\n        { \\n            \"role\": \"system\", \\n            \"content\": \"You summarize YouTube transcripts to help traders determine a directional bias and have a profitable day.\" \\n        },\\n        {\\n            \"role\": \"user\",\\n            \"content\": (\\n                \"Summarize the transcript and determine Tino\\'s directional bias. \"\\n                \"Also read between the lines to determine what\\'s ACTUALLY being said and explain. \"\\n                \"Use markdown formatting. Don\\'t skip any asset pairs mentioned. \"\\n                \"Write a personal update about Tino at the end if he mentions anything.\\n\\n\"\\n                f\"Transcript: {full_transcript}\"\\n            ),\\n        }\\n    ]\\n)\\nai_explanation = chat_completion.choices[0].message.content\\n\\nfrom IPython.display import display, Markdown\\ndisplay(Markdown(ai_explanation)) '"
      ]
     },
     "execution_count": 14,
     "metadata": {},
     "output_type": "execute_result"
    }
   ],
   "source": [
    "\"\"\" from youtube_transcript_api import YouTubeTranscriptApi\n",
    "from openai import OpenAI\n",
    "from pyonepassword import OP\n",
    "\n",
    "op = OP()\n",
    "openai_key = op.item_get('ociiuq6gchlgrjr2fopzbndrnq').credential\n",
    "client = OpenAI(api_key=openai_key)\n",
    "\n",
    "transcript = YouTubeTranscriptApi.get_transcript(video_id) \n",
    "full_transcript = ' '.join(entry['text'] for entry in transcript) # Transcript is retuned in chunks for some reason\n",
    "\n",
    "model = \"gpt-4o\"\n",
    "chat_completion = client.chat.completions.create(\n",
    "    model=model,\n",
    "    messages=[\n",
    "        { \n",
    "            \"role\": \"system\", \n",
    "            \"content\": \"You summarize YouTube transcripts to help traders determine a directional bias and have a profitable day.\" \n",
    "        },\n",
    "        {\n",
    "            \"role\": \"user\",\n",
    "            \"content\": (\n",
    "                \"Summarize the transcript and determine Tino's directional bias. \"\n",
    "                \"Also read between the lines to determine what's ACTUALLY being said and explain. \"\n",
    "                \"Use markdown formatting. Don't skip any asset pairs mentioned. \"\n",
    "                \"Write a personal update about Tino at the end if he mentions anything.\\n\\n\"\n",
    "                f\"Transcript: {full_transcript}\"\n",
    "            ),\n",
    "        }\n",
    "    ]\n",
    ")\n",
    "ai_explanation = chat_completion.choices[0].message.content\n",
    "\n",
    "from IPython.display import display, Markdown\n",
    "display(Markdown(ai_explanation)) \"\"\""
   ]
  },
  {
   "cell_type": "code",
   "execution_count": 15,
   "metadata": {},
   "outputs": [
    {
     "data": {
      "text/plain": [
       "\"so Bitcoin well well well you know what everyone's losing their brain right now even micro strategies there like not looking good bro today guys it's dday or not all right today we're going to know if Bitcoin has come to the level that we would been expecting from yesterday's live the important level um not yesterday's the the day before the important range that Bitcoin needed to reverse from so if you haven't watched Wednesday night's video then you won't understand what I'm talking about but I'm going to show you exactly what the story is excuse me I'm trying to approach the charts today in the most relaxed way possible mad love man um baates yeah you've been here for a while man and yeah there's a lot of people that are being rattled by this deicious okay this ain't no Sala dip man we're talking quite an aggressive drop so what I'm going to do now is just break down the logic for you okay because there's no news out there that's really sparking any interest in cryptocurrency you want good news well what's going on is a lot of Black Rock Traders or should I say Bitcoin ETF players are starting to get a little bit cautious about what the the story is so what we're going to do is just break down levels that's all we're going to do today I'm going to break down a few levels on bitcoin a few levels on the NASDAQ and what we can expect we've just had some news announcements come out and the PC East coming in at the same so other than that we're just waiting for Donald Trump to pop his little head up into the calendar and start talking about tariffs maybe he'll move it to the first of March who knows maybe something's going to happen over the weekend which could trigger an absolute Madness across the board one way or another ladies and gentlemen it will all start to make sense to you once we're done with this live so I am going to try and keep this one short and sweet time me if you want I'm going to try and get this out to you as quick as I can so let's get with the program here we go so NASDAQ it's trading at very significant lows just to put it into perspective good old Nvidia is on discount right now and you can see it's not really doing too well it is gapping down at the open which there could be a possibility that they try and recover this Gap and Nvidia is coming into some very interesting zones right now it's just closed off this Gap right here and other than that there is a very small Gap around 15 Mark quite frankly someone said in the comment section that if Invidia were to go down to $80 Bitcoin would get smacked speaking of Bitcoin the word on the street is that it plummets below 80k which is fine and it fills the CME Gap so all the CME Gap dudes are like Tino Tino what about the Gap what about the Gap and I'm like okay then so your Gap has now been filled now do you remember the range that we were talking about on the higher time frame only this week there's your reversal right there ladies and gentlemen so I said that Bitcoin would reverse from this point and it has reversed from it here is the surgical breakdown of the hybrid system take this green blue Vector candle take the high take the low of the Candlestick now go and get yourself a nice little Fibonacci and find the midpoint of that range just look at the Despicable Precision of the 50% of that range why is this important because the assumption is that this candle was halfway becoming a vector candle that means that the offic started to get a bit more aggressive that means people were buying at that point that means there were bids inside of those ranges that would suggest that when it gets to that point the Market's memory would then trigger to reverse back up again so Bitcoin has reversed from that point but it's not Cloud I ain't saying standing here for I told you it was going to reverse forget that trying to get you to understand that when you take the logic of the midpoint of a vector candle it starts to pull things like this so what did you need to do well if you took the midpoint of range the logic would have said you'd be in some good little bit of a return right now from 78,000 all the way up to 82 you you're complaining about a 6K mooving Bitcoin get out of Bitcoin there's no point in trading it and someone did say something quite significant cryptocurrency is no longer the thing that you hold it's now the thing that you trade are you in agreement with me on this yay or nay so I would love to know what your comments are you guys transitioning from investing in crypto to just trading it because if they're liquidating Traders left right and and center and violating people all the time then you might as well jump onto the bandwagon and do exactly what they're doing you know so that's the story right there quickly going over into bitcoin price actions understand where we are with it all so right now the markets will be open in the next 25 minutes and we're seeing a lot of shorts lots of people going short oh my God oh my God but what do we always say by the blood by the blood there's blood on the streets not blood there's organs all over the place you might trip up and find someone's lung at the fact that they've just lost their air from the fact that Bitcoin has dropped so aggressively look at these bids it is it is disgusting look at them what's Nasdaq doing NASDAQ is the the biggest pain in the ass it doesn't go anywhere and I think we're going to have a rotation day today if I'm honest with you with NASDAQ just quickly going over into NASDAQ right now it just doesn't want to do anything just going into smaller time frames to put into perspective yeah so NASDAQ is basically in the xrp formation right now those of you that know about the xrp formation is it just doesn't go anywhere and just holds inside of a range for a little while we've had news announcements come out regarding the PC right there it says 0.3% GDP on Canadian dollar has come down at 0.2% then you got the Chicago PMI manufacturing data coming out and China's manufacturing data coming out on Saturday so that's going to be an interesting one to say the least but the NASDAQ itself hasn't done anything maybe the Market's treading on Waters cautiously because the volatility index has moved up quite a bit we'd expect it to come back down because they're heading into hedging ranges right now okay but don't lose your brains guys as it is right now the bonds Market seems to be holding out relatively well it's not going down currently at 103 which is good news going into the 2-year yield you can see that is coming down in essence wait oh yeah yeah so the yields down at 4% and they do say that when the 2-year hits a 4% mark That's when you really want to be buying stock that's what they're saying so that's very interesting oil right now is trading negative and when the oil trades negative the logic says that NASDAQ should be moving up cuz oil prices if they're going down that's good news for companies with that being said just looking at the nasda it's so embarrassing at how it just drops down I flipping hate that asset sometimes anyway Bitcoin so nice little reversal on bitcoin to the upside so you got red Vector candle regions right here on bitcoin and the idea is that even though everyone is wetting the bed right now about cryptocurrency you've just got to just be calm with it it's come back into the range day low now we've been we've been looking at this area for the start of the week CU at the start of the week I do a market watch and this was my projection on bitcoin at the start of the week on on Monday so we expected Bitcoin to come back down towards the 86,000 point right there let me just sort this out yeah to come down to the 86,000 come to 90 do a little bounce and then come back down to the 86,000 so we know Bitcoin has cleared that range and this was off the logic of the Asian session on Monday now you've heard me talk about the Asian session and wherever that Asian session appears if the session on Tuesday doesn't follow through and break above the Asian session high on a Monday then we could assume that they're going to be trading away from that point to the downside if they can't even get above the Asian session low on a Monday then we assume they're going to be trading it to the downside so we were fading the logic of Bitcoin coming down and we were looking for retraces throughout the week but it was just not stopping and it was just collapsing same story for ethereum we wanted to see ethereum come down and clear out that Wick it sure did come towards that Wick come down to the 2,123 did she take that of course she did yep she came down to 2 200 and 274 okay so she cleared that price projection so that was a nice little return on ethereum right there and then finally the only one that's been doing relatively well is salana okay so I wanted to see salana come down towards the 110 Mark and salana ended up going down towards only 125 out of everything salana is the one that's holding it down you know it's absolutely smashed it so there could be a possibility that salana is being retained binance has come out and said that it's not manipulating price of salana at all but why is why isn't salana not moving that's the question going over to our dearly beloved xrp what are you doing still at $21 and10 not really doing too much going into the Euro she's trying to make a little bit of recovery be mindful of the fact that the dollar dominance is now trading just at the highs there could be a bit of a sweep to the downside a little sweeper ises to come down to the green Vector candles remember the dollar dominance right now is currently at levels where there is appreciation on its value so even though you're witnessing the Euro moving up and down dollar is moving up and down but what you're looking at with the dollar is it's holding sideways and when the dollar trades sideways per se this is on the daily time frame dollar fundamentally is stuck inside of this 109 and 105 region moving away from the 105 so it's in a fourpoint range and what this tells me and frankly I'll be honest with you all Dollar's going to 109 that's my logic dollar will be going to 109 because we haven't had the tariffs yet Donald Trump hasn't said anything just yet it's too quiet and if I'm going to play any Longs today I got to be very very careful as should you guys be very careful if Trump starts talking anything that comes out of his mouth sounds great for the United States terrible for the stock market all right so just be very very mindful when you are trading today hey Tino how much Bitcoin is left that can be bought OTC that I couldn't tell you my friend quickly going over into here maybe we might see it over here but remember guys remember this remember the coinbase premium index everyone's saying they're selling the Bitcoin ain't selling all right it's all here there's your buying there's your buying right it's all there they're buying Bitcoin because these orders can only be placed by people losing their brain they need a fast reaction down which is what we've got they need to do something psychologically retails like oh my God Bitcoin down Bitcoin down quickly sell sell sell I hate crypto I hate this Okay cool so now it's gone down you've sold to these dudes look man 5.8 5.78 million at 79,000 109 sorry 1.94 million was the initial amount does anybody remember at 79,000 there was an order for 60 million no longer in there 20 million was a 80k hasn't been filled going up here you got another 20K 20 million sorry going up here we got a million and then we're going into other figures right now to go into it 6.79 million 81,000 going to 5.3 over there and of course this is where price has come back so logic says that if price is going to come back up we need to see more offers coming into play so basically retail needs a reason to start buying Bitcoin that's what we're looking for today um how much got transacted where that 69 million order was see I did do that logic myself okay and if we look you got hasn't been transacted but if we look at the profile and just go up like this I mean 79 million I'm not really seeing it so right now it says 5.78 mil I don't believe that is true because you got to remember across all exchanges this is obviously Bitcoin on binance but across all exchanges I wouldn't know unless I really dived into that okay um yo T book map shows there is strong possibility for it to go down to 70k what do you think there is a high strong there is a strong chance Bitcoin can go down to 70k there is a massive chance that it could go down to 70k to put it into perspective for you all ladies and gentlemen what You' got to be mindful of is I said this is where Bitcoin would likely reverse and if Bitcoin can reverse from here and start coming back up considering that it's been going down 1 2 3 four five six days seven eight sorry so eight days for a whole week it's been going down the logic says that if we're going in line with a cyclical move principally you look for M formation drop what's the level retrace level one Bitcoin can come back up reinstall the fear the Hope in people's eyes and then Bitcoin takes a shoe bag to the downside speaking of shoe bag let's go look at micro strategy they're going to be itching bro they are itching so anyone that bought the actual convertible Bond at 320 380 okay has to wait till it goes to 640 to make a return so right now your return is looking very interesting hopefully everything moves back up again and principle of the volatility index comes into play but if they've been running shorts all week ladies and gentlemen there's probably going to be some short covering coming into play which is why price in principle would be marking higher of course if Trump turns around and says anything I'm not really seeing anything maybe he'll give the markets a day off you I'm done he due to to hold a press conference with Ukrainian president zalinski I'm telling you man we've had Trump appear in this calendar more than us data this week I honestly I give up I am done so done one two three times okay and let's just change the calendar and exclude the Canadian dollar right now and exclude the Japanese Yen okay exclude the Euro so we've got okay one two 3 4 he's behind by one day God sake he stresses me out so that explains why NASDAQ ain't doing anything that's just appeared that has just appeared I don't believe it Tino what do you think of the odds of Bitcoin to roll back towards 78k the the odds are massive man there's no no two ways about it the odds are massive I'm just looking at the order flow and you can just see it's absolutely dog look at the NASDAQ horrible S&P horrible rotation and normal distribution by principle of volume profiles and market profiles and what have you it's not doing anything until it starts to move you know so it's yeah it's just it's just a tricky one it really is so I'll be stepping away from the charts today I ain't going to do nothing today because I can't stand it when Trump speaks it's only bad news you can run shorts but the market ain't going to behave the way you normally think it would [Music] um what do you think about the Elliot wave impulse Theory oh God I'd have to be diving into that right now I'm not even paying attention to that to be fair um so what I'm saying to you guys is with regards to bitcoin okay we've had a nice little Bounce from here and we have got red Vector candles that could get recovered at some point it is trading at the range daily low just try not to fomo in too much all right try not to go in oh my God and all of that just be realistic with your expect expectations in trading because it's a tough gag it really is all right today is for Friday and it does have the tendency to be a boring day or a crazy day okay if they are going to move the markets the logic and the principle says that we should expect Bitcoin to move higher today but when it moves up to a specific point before it then comes back down again well that's going to be news debate it's going to be news orientated all right we know already the Market's going to wet the bed today I mean it's going here stocks down and nvidia's down 8% and you got the Mexico Canada story so it's just one of those you just got to be very careful guys Bitcoin totals here we go let's have a look at the Bitcoin dominance chart uh where my totals at so let's have a look totals so across the board most altcoins and Bitcoin and cryptocurrency is trading now negative and you got the NASDAQ still going down doing S&P trying to hold out on that vwap I'm paying close attention to it cuz I know they're going to try and do something stupid in a minute and they'll try and make an initial reversal because they've been tapping that vwap all bloody morning once twice three four times right now and you're telling me that they're selling from that point vior differ for yesterday you sold off amazingly so is there more to go have they got more probably but never mind so 2.6 trillion 67 trillion on the market cap for cryptocurrency overall we lost that three trillion we lost more than that three trillion I mean it's just been crazy look at it it's been absolutely wild but with that being said here we go Market's starting to move right now and with that being said going to the altcoin market most of your altcoins are probably going to try and make an initial reversal from these points if they can sustains if they can't then never mind you're losing money get out of it and get ready for a different investment that that's the brutal truth of this game guys you can hold on to your altcoins as much as you want but there is motivations behind cryptocurrency there's a there's there's things happening let's have a look at this oh my days 577 th000 it has gone down so Black Rock has been depositing again 300 300 300 300 3 6 9 12 15 18 ooh so we're selling a little bit more Bitcoin right now so that's interesting to say the least but of course someone shared a video in the Discord talking about the yields and the yield that they get from going on you know they'll buy the bit the ETF and then they'll short it okay so playing like the gamma negative story that dealers would PR um primarily do but quite frankly ladies and gentlemen if you're going to be approaching the day today trying to work out if this is the bottom just make sure that you are using light size be very careful okay because Bitcoin can shoot straight back up give you the conviction it's going up and then come back down again so ideally what you're waiting for is you're waiting for Bitcoin to start forming interest back up above the 200 EMA so this Candlestick in principle given that we are coming in towards the end of a month so hold on a second here's your monthly candle it's come back down towards the green Vector Candle on the monthly time frame some people never expected it thought we're going to get the same flavor right here maybe that could be the case but it has sharply come back down so go down to the Daily time frame and just monitor how this daily candle sustains itself okay because Bitcoin really needs to hold this daily candle if it's going to try and come back up the Violet Vector candle has to stay a violet Vector candle and from that point it needs to actually close as high as it can up there what the hell Trump said something Trump's saying something Trump is saying something Trump's saying something no the markets Trump's saying something he has to be saying something the markets can't move like that oh my days anyways any other questions guys if not with that being said I will be checking in with you all after the weekend Monday flavor if you are new be sure to like And subscribe watch out for the market open watch out for Trump and you want more information get to Traders reality.com all the links that you need are in the description from our preferred exchange btcc to to Traders reality website where you can become a platinum member and hear me cussing about Trump all day and giving you setups in the mornings all right with that being said guys mad love and respect and I'll be tuning in to you soon peace\""
      ]
     },
     "execution_count": 15,
     "metadata": {},
     "output_type": "execute_result"
    }
   ],
   "source": [
    "full_transcript"
   ]
  },
  {
   "cell_type": "markdown",
   "metadata": {},
   "source": [
    "## Database"
   ]
  },
  {
   "cell_type": "code",
   "execution_count": 17,
   "metadata": {},
   "outputs": [],
   "source": [
    "from sqlite_utils import Database\n",
    "from datetime import datetime\n",
    "\n",
    "# Initialize the database\n",
    "db = Database(\"video_data.db\")\n",
    "table = \"video_analysis\"\n",
    "\n",
    "# Check for duplicate video_id\n",
    "if not db[table].exists() or not any(row['video_id'] == video_id for row in db[table].rows):\n",
    "    # Insert a new row into the video_analysis table\n",
    "    db[table].insert({\n",
    "        \"datetime\": datetime.now(),\n",
    "        \"video_id\": video_id,\n",
    "        \"transcript\": full_transcript,\n",
    "        \"model\": model,\n",
    "        \"ai_explanation\": response.content[1].text\n",
    "    })\n",
    "else:\n",
    "    print(f\"Video ID {video_id} already exists in the database.\")"
   ]
  },
  {
   "cell_type": "markdown",
   "metadata": {},
   "source": [
    "## Possible future work:\n",
    "\n",
    "To enhance the morning summary for a day trader focusing on cryptocurrency, you can incorporate additional data points that provide a comprehensive view of the market. Here are some suggestions:\n",
    "\n",
    "1. **Market Sentiment Analysis**:\n",
    "   - Use sentiment analysis tools to gauge the overall market sentiment from social media platforms like Twitter, Reddit, and crypto forums.\n",
    "   - Incorporate sentiment scores or trends to provide insights into the general mood of the market.\n",
    "\n",
    "2. **Technical Indicators**:\n",
    "   - Include key technical indicators such as moving averages (e.g., 50-day, 200-day), RSI (Relative Strength Index), MACD (Moving Average Convergence Divergence), and Bollinger Bands.\n",
    "   - Highlight any significant technical patterns or signals (e.g., golden cross, death cross).\n",
    "   - Ben Cowan (into the crypto verso): bull market support band, dominance\n",
    "\n",
    "3. **News and Events**:\n",
    "   - Summarize recent news articles or headlines that could impact the crypto market, such as regulatory changes, major partnerships, or technological advancements.\n",
    "   - Include a calendar of upcoming events like earnings reports, economic data releases, or major conferences.\n",
    "\n",
    "4. **On-Chain Data**:\n",
    "   - Provide insights from on-chain data such as transaction volumes, active addresses, and large transactions (whale movements).\n",
    "   - Highlight any unusual activity that could indicate market manipulation or significant interest.\n",
    "\n",
    "5. **Volatility Index**:\n",
    "   - Include a measure of market volatility, such as the Crypto Volatility Index (CVI), to help traders assess potential risk levels.\n",
    "\n",
    "6. **Exchange Flows**:\n",
    "   - Track the inflow and outflow of cryptocurrencies on major exchanges to identify potential buying or selling pressure.\n",
    "\n",
    "7. **Correlation with Other Markets**:\n",
    "   - Analyze the correlation between cryptocurrencies and other asset classes like stocks, gold, or fiat currencies to understand broader market trends.\n",
    "\n",
    "8. **Regulatory Updates**:\n",
    "   - Provide updates on any regulatory developments that could affect the crypto market, such as new laws or enforcement actions.\n",
    "\n",
    "9. **Macro-Economic Indicators**:\n",
    "   - Include relevant macroeconomic indicators such as interest rates, inflation data, and employment figures that could influence market sentiment.\n",
    "\n",
    "10. **Community and Developer Activity**:\n",
    "    - Track activity on platforms like GitHub to gauge the level of development and community engagement for specific cryptocurrencies.\n",
    "\n",
    "By incorporating these data points, you can provide a more holistic and actionable morning summary for day traders in the crypto market."
   ]
  },
  {
   "cell_type": "markdown",
   "metadata": {},
   "source": [
    "## Experiments"
   ]
  },
  {
   "cell_type": "code",
   "execution_count": null,
   "metadata": {},
   "outputs": [
    {
     "name": "stdout",
     "output_type": "stream",
     "text": [
      "Requirement already satisfied: tradingview-ta in c:\\users\\dup\\dev\\.venv\\lib\\site-packages (3.3.0)\n",
      "Requirement already satisfied: requests in c:\\users\\dup\\dev\\.venv\\lib\\site-packages (from tradingview-ta) (2.32.3)\n",
      "Requirement already satisfied: charset-normalizer<4,>=2 in c:\\users\\dup\\dev\\.venv\\lib\\site-packages (from requests->tradingview-ta) (3.4.1)\n",
      "Requirement already satisfied: idna<4,>=2.5 in c:\\users\\dup\\dev\\.venv\\lib\\site-packages (from requests->tradingview-ta) (3.10)\n",
      "Requirement already satisfied: urllib3<3,>=1.21.1 in c:\\users\\dup\\dev\\.venv\\lib\\site-packages (from requests->tradingview-ta) (2.3.0)\n",
      "Requirement already satisfied: certifi>=2017.4.17 in c:\\users\\dup\\dev\\.venv\\lib\\site-packages (from requests->tradingview-ta) (2025.1.31)\n",
      "Note: you may need to restart the kernel to use updated packages.\n"
     ]
    },
    {
     "name": "stderr",
     "output_type": "stream",
     "text": [
      "\n",
      "[notice] A new release of pip is available: 24.1.2 -> 25.0.1\n",
      "[notice] To update, run: python.exe -m pip install --upgrade pip\n"
     ]
    }
   ],
   "source": [
    "%pip install tradingview-ta"
   ]
  },
  {
   "cell_type": "code",
   "execution_count": null,
   "metadata": {},
   "outputs": [
    {
     "name": "stdout",
     "output_type": "stream",
     "text": [
      "BTCUSDT Futures {'RECOMMENDATION': 'SELL', 'BUY': 3, 'SELL': 14, 'NEUTRAL': 9}\n"
     ]
    }
   ],
   "source": [
    "from tradingview_ta import TA_Handler, Interval, Exchange\n",
    "\n",
    "btc = TA_Handler(\n",
    "    symbol=\"BTCUSDT.P\",\n",
    "    screener=\"crypto\",\n",
    "    exchange=\"binance\",\n",
    "    interval=Interval.INTERVAL_1_DAY\n",
    ")\n",
    "print(\"BTCUSDT Futures\", btc.get_analysis().summary)\n",
    "# Example output: {\"RECOMMENDATION\": \"BUY\", \"BUY\": 8, \"NEUTRAL\": 6, \"SELL\": 3}"
   ]
  },
  {
   "cell_type": "code",
   "execution_count": null,
   "metadata": {},
   "outputs": [],
   "source": []
  }
 ],
 "metadata": {
  "kernelspec": {
   "display_name": "Python 3",
   "language": "python",
   "name": "python3"
  },
  "language_info": {
   "codemirror_mode": {
    "name": "ipython",
    "version": 3
   },
   "file_extension": ".py",
   "mimetype": "text/x-python",
   "name": "python",
   "nbconvert_exporter": "python",
   "pygments_lexer": "ipython3",
   "version": "3.12.1"
  }
 },
 "nbformat": 4,
 "nbformat_minor": 2
}
