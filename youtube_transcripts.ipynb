{
 "cells": [
  {
   "cell_type": "markdown",
   "metadata": {},
   "source": [
    "## Requirements"
   ]
  },
  {
   "cell_type": "code",
   "execution_count": 1,
   "metadata": {},
   "outputs": [
    {
     "name": "stdout",
     "output_type": "stream",
     "text": [
      "Defaulting to user installation because normal site-packages is not writeable\n",
      "Requirement already satisfied: youtube-transcript-api in c:\\users\\dup\\appdata\\roaming\\python\\python312\\site-packages (0.6.2)\n",
      "Requirement already satisfied: openai in c:\\users\\dup\\appdata\\roaming\\python\\python312\\site-packages (1.51.2)\n",
      "Requirement already satisfied: pyonepassword in c:\\users\\dup\\appdata\\roaming\\python\\python312\\site-packages (4.2.0)\n",
      "Requirement already satisfied: sqlite_utils in c:\\users\\dup\\appdata\\roaming\\python\\python312\\site-packages (3.37)\n",
      "Requirement already satisfied: requests in c:\\users\\dup\\appdata\\roaming\\python\\python312\\site-packages (from youtube-transcript-api) (2.31.0)\n",
      "Requirement already satisfied: anyio<5,>=3.5.0 in c:\\users\\dup\\appdata\\roaming\\python\\python312\\site-packages (from openai) (4.2.0)\n",
      "Requirement already satisfied: distro<2,>=1.7.0 in c:\\users\\dup\\appdata\\roaming\\python\\python312\\site-packages (from openai) (1.9.0)\n",
      "Requirement already satisfied: httpx<1,>=0.23.0 in c:\\users\\dup\\appdata\\roaming\\python\\python312\\site-packages (from openai) (0.26.0)\n",
      "Requirement already satisfied: jiter<1,>=0.4.0 in c:\\users\\dup\\appdata\\roaming\\python\\python312\\site-packages (from openai) (0.6.1)\n",
      "Requirement already satisfied: pydantic<3,>=1.9.0 in c:\\users\\dup\\appdata\\roaming\\python\\python312\\site-packages (from openai) (2.5.3)\n",
      "Requirement already satisfied: sniffio in c:\\users\\dup\\appdata\\roaming\\python\\python312\\site-packages (from openai) (1.3.0)\n",
      "Requirement already satisfied: tqdm>4 in c:\\users\\dup\\appdata\\roaming\\python\\python312\\site-packages (from openai) (4.66.2)\n",
      "Requirement already satisfied: typing-extensions<5,>=4.11 in c:\\users\\dup\\appdata\\roaming\\python\\python312\\site-packages (from openai) (4.12.2)\n",
      "Requirement already satisfied: python-singleton-metaclasses in c:\\users\\dup\\appdata\\roaming\\python\\python312\\site-packages (from pyonepassword) (0.2.1)\n",
      "Requirement already satisfied: sqlite-fts4 in c:\\users\\dup\\appdata\\roaming\\python\\python312\\site-packages (from sqlite_utils) (1.0.3)\n",
      "Requirement already satisfied: click in c:\\users\\dup\\appdata\\roaming\\python\\python312\\site-packages (from sqlite_utils) (8.1.7)\n",
      "Requirement already satisfied: click-default-group>=1.2.3 in c:\\users\\dup\\appdata\\roaming\\python\\python312\\site-packages (from sqlite_utils) (1.2.4)\n",
      "Requirement already satisfied: tabulate in c:\\users\\dup\\appdata\\roaming\\python\\python312\\site-packages (from sqlite_utils) (0.9.0)\n",
      "Requirement already satisfied: python-dateutil in c:\\users\\dup\\appdata\\roaming\\python\\python312\\site-packages (from sqlite_utils) (2.8.2)\n",
      "Requirement already satisfied: pluggy in c:\\users\\dup\\appdata\\roaming\\python\\python312\\site-packages (from sqlite_utils) (1.5.0)\n",
      "Requirement already satisfied: idna>=2.8 in c:\\users\\dup\\appdata\\roaming\\python\\python312\\site-packages (from anyio<5,>=3.5.0->openai) (3.6)\n",
      "Requirement already satisfied: certifi in c:\\users\\dup\\appdata\\roaming\\python\\python312\\site-packages (from httpx<1,>=0.23.0->openai) (2023.11.17)\n",
      "Requirement already satisfied: httpcore==1.* in c:\\users\\dup\\appdata\\roaming\\python\\python312\\site-packages (from httpx<1,>=0.23.0->openai) (1.0.2)\n",
      "Requirement already satisfied: h11<0.15,>=0.13 in c:\\users\\dup\\appdata\\roaming\\python\\python312\\site-packages (from httpcore==1.*->httpx<1,>=0.23.0->openai) (0.14.0)\n",
      "Requirement already satisfied: annotated-types>=0.4.0 in c:\\users\\dup\\appdata\\roaming\\python\\python312\\site-packages (from pydantic<3,>=1.9.0->openai) (0.6.0)\n",
      "Requirement already satisfied: pydantic-core==2.14.6 in c:\\users\\dup\\appdata\\roaming\\python\\python312\\site-packages (from pydantic<3,>=1.9.0->openai) (2.14.6)\n",
      "Requirement already satisfied: colorama in c:\\users\\dup\\appdata\\roaming\\python\\python312\\site-packages (from tqdm>4->openai) (0.4.6)\n",
      "Requirement already satisfied: six>=1.5 in c:\\users\\dup\\appdata\\roaming\\python\\python312\\site-packages (from python-dateutil->sqlite_utils) (1.16.0)\n",
      "Requirement already satisfied: charset-normalizer<4,>=2 in c:\\users\\dup\\appdata\\roaming\\python\\python312\\site-packages (from requests->youtube-transcript-api) (3.3.2)\n",
      "Requirement already satisfied: urllib3<3,>=1.21.1 in c:\\users\\dup\\appdata\\roaming\\python\\python312\\site-packages (from requests->youtube-transcript-api) (2.1.0)\n",
      "Note: you may need to restart the kernel to use updated packages.\n"
     ]
    },
    {
     "name": "stderr",
     "output_type": "stream",
     "text": [
      "DEPRECATION: Loading egg at c:\\program files\\python312\\lib\\site-packages\\vboxapi-1.0-py3.12.egg is deprecated. pip 24.3 will enforce this behaviour change. A possible replacement is to use pip for package installation. Discussion can be found at https://github.com/pypa/pip/issues/12330\n",
      "\n",
      "[notice] A new release of pip is available: 24.1.2 -> 24.2\n",
      "[notice] To update, run: python.exe -m pip install --upgrade pip\n"
     ]
    }
   ],
   "source": [
    "%pip install youtube-transcript-api openai pyonepassword sqlite_utils"
   ]
  },
  {
   "cell_type": "markdown",
   "metadata": {},
   "source": [
    "## Youtube transcript summarizer"
   ]
  },
  {
   "cell_type": "code",
   "execution_count": 2,
   "metadata": {},
   "outputs": [],
   "source": [
    "video_id = \"WUejRBq9IWU\" # ID from video URL"
   ]
  },
  {
   "cell_type": "code",
   "execution_count": 3,
   "metadata": {},
   "outputs": [],
   "source": [
    "from youtube_transcript_api import YouTubeTranscriptApi\n",
    "from openai import OpenAI\n",
    "from pyonepassword import OP\n",
    "\n",
    "op = OP()\n",
    "openai_key = op.item_get('ociiuq6gchlgrjr2fopzbndrnq').credential\n",
    "client = OpenAI(api_key=openai_key)"
   ]
  },
  {
   "cell_type": "code",
   "execution_count": 4,
   "metadata": {},
   "outputs": [],
   "source": [
    "transcript = YouTubeTranscriptApi.get_transcript(video_id) \n",
    "full_transcript = ' '.join(entry['text'] for entry in transcript) # Transcript is retuned in chunks for some reason"
   ]
  },
  {
   "cell_type": "code",
   "execution_count": 7,
   "metadata": {},
   "outputs": [
    {
     "data": {
      "text/plain": [
       "'**Summary and Tino\\'s Directional Bias:**\\n\\nTino\\'s main focus in this session seems to revolve around the anticipation of a potential pump in Bitcoin, suggesting a short-term bullish bias. He explores various macroeconomic dynamics including the potential for U.S. economic challenges, shifts in bond markets, and how these might lead investors to view Bitcoin as a hedge. There\\'s a strong underlying sentiment that while Bitcoin might see a pump, it could be part of a broader, possibly precarious economic scenario that seeks a \"reset,\" possibly indicating Tino foresees a period of risk-off attitudes in traditional markets.\\n\\n**Reading Between the Lines:**\\n\\nWhile Tino presents a bullish scenario for Bitcoin in the short term, he also hints at an overarching narrative of speculative caution. The discussions about bond market collapses, potential rate hikes from the Bank of Japan, and the dependency on macroeconomic events suggest he remains wary of overall market stability. The implication is that any bullishness in Bitcoin could be part of a larger, cyclical financial event, highlighting a more cautious or defensive investment strategy overall. His reference to expecting a \"catastrophic event\" for Bitcoin indicates an underlying belief that despite short-term pumps, larger market disruptions could affect all assets, including cryptocurrencies.\\n\\n**Personal Update for Tino:**\\n\\nHey Tino, it\\'s great to see you back in the game and unpacking the multifaceted dynamics of the current financial landscape. Your knack for connecting dots across economic sectors never fails to enlighten. With what seems like a storm brewing in global markets, your insights into how this might impact Bitcoin and traditional markets are invaluable. It looks like you’re not just surviving but thriving on these challenging market shifts—keep trading safely, and as always, mad love and respect! Winks and all, you keep the community informed and entertained. Peace and prosperity, brother.'"
      ]
     },
     "execution_count": 7,
     "metadata": {},
     "output_type": "execute_result"
    }
   ],
   "source": [
    "model = \"gpt-4o\"\n",
    "chat_completion = client.chat.completions.create(\n",
    "    model=model,\n",
    "    messages=[\n",
    "        { \n",
    "            \"role\": \"system\", \n",
    "            \"content\": \"You summarize YouTube transcripts to help traders determine a directional bias and have a profitable day.\" \n",
    "        },\n",
    "        {\n",
    "            \"role\": \"user\",\n",
    "            \"content\": (\n",
    "                \"Summarize the transcript and determine Tino's directional bias. \"\n",
    "                \"Also read between the lines to determine what's actually being said and explain. \"\n",
    "                \"Write a personal update about Tino at the end if he mentions anything.\\n\\n\"\n",
    "                f\"Transcript: {full_transcript}\"\n",
    "            ),\n",
    "        }\n",
    "    ]\n",
    ")\n",
    "ai_explanation = chat_completion.choices[0].message.content\n",
    "ai_explanation.replace(\"\\\\n\", \"\\n\")"
   ]
  },
  {
   "cell_type": "code",
   "execution_count": 8,
   "metadata": {},
   "outputs": [
    {
     "data": {
      "text/plain": [
       "'**Summary and Tino\\'s Directional Bias:**\\n\\nTino\\'s main focus in this session seems to revolve around the anticipation of a potential pump in Bitcoin, suggesting a short-term bullish bias. He explores various macroeconomic dynamics including the potential for U.S. economic challenges, shifts in bond markets, and how these might lead investors to view Bitcoin as a hedge. There\\'s a strong underlying sentiment that while Bitcoin might see a pump, it could be part of a broader, possibly precarious economic scenario that seeks a \"reset,\" possibly indicating Tino foresees a period of risk-off attitudes in traditional markets.\\n\\n**Reading Between the Lines:**\\n\\nWhile Tino presents a bullish scenario for Bitcoin in the short term, he also hints at an overarching narrative of speculative caution. The discussions about bond market collapses, potential rate hikes from the Bank of Japan, and the dependency on macroeconomic events suggest he remains wary of overall market stability. The implication is that any bullishness in Bitcoin could be part of a larger, cyclical financial event, highlighting a more cautious or defensive investment strategy overall. His reference to expecting a \"catastrophic event\" for Bitcoin indicates an underlying belief that despite short-term pumps, larger market disruptions could affect all assets, including cryptocurrencies.\\n\\n**Personal Update for Tino:**\\n\\nHey Tino, it\\'s great to see you back in the game and unpacking the multifaceted dynamics of the current financial landscape. Your knack for connecting dots across economic sectors never fails to enlighten. With what seems like a storm brewing in global markets, your insights into how this might impact Bitcoin and traditional markets are invaluable. It looks like you’re not just surviving but thriving on these challenging market shifts—keep trading safely, and as always, mad love and respect! Winks and all, you keep the community informed and entertained. Peace and prosperity, brother.'"
      ]
     },
     "execution_count": 8,
     "metadata": {},
     "output_type": "execute_result"
    }
   ],
   "source": [
    "ai_explanation.replace(\"\\\\n\", \"\\n\")"
   ]
  },
  {
   "cell_type": "markdown",
   "metadata": {},
   "source": [
    "'**Summary and Tino\\'s Directional Bias:**\\n\\nTino\\'s main focus in this session seems to revolve around the anticipation of a potential pump in Bitcoin, suggesting a short-term bullish bias. He explores various macroeconomic dynamics including the potential for U.S. economic challenges, shifts in bond markets, and how these might lead investors to view Bitcoin as a hedge. There\\'s a strong underlying sentiment that while Bitcoin might see a pump, it could be part of a broader, possibly precarious economic scenario that seeks a \"reset,\" possibly indicating Tino foresees a period of risk-off attitudes in traditional markets.\\n\\n**Reading Between the Lines:**\\n\\nWhile Tino presents a bullish scenario for Bitcoin in the short term, he also hints at an overarching narrative of speculative caution. The discussions about bond market collapses, potential rate hikes from the Bank of Japan, and the dependency on macroeconomic events suggest he remains wary of overall market stability. The implication is that any bullishness in Bitcoin could be part of a larger, cyclical financial event, highlighting a more cautious or defensive investment strategy overall. His reference to expecting a \"catastrophic event\" for Bitcoin indicates an underlying belief that despite short-term pumps, larger market disruptions could affect all assets, including cryptocurrencies.\\n\\n**Personal Update for Tino:**\\n\\nHey Tino, it\\'s great to see you back in the game and unpacking the multifaceted dynamics of the current financial landscape. Your knack for connecting dots across economic sectors never fails to enlighten. With what seems like a storm brewing in global markets, your insights into how this might impact Bitcoin and traditional markets are invaluable. It looks like you’re not just surviving but thriving on these challenging market shifts—keep trading safely, and as always, mad love and respect! Winks and all, you keep the community informed and entertained. Peace and prosperity, brother.'"
   ]
  },
  {
   "cell_type": "markdown",
   "metadata": {},
   "source": [
    "## Database"
   ]
  },
  {
   "cell_type": "code",
   "execution_count": 6,
   "metadata": {},
   "outputs": [
    {
     "ename": "AttributeError",
     "evalue": "type object 'datetime.datetime' has no attribute 'datetime'",
     "output_type": "error",
     "traceback": [
      "\u001b[1;31m---------------------------------------------------------------------------\u001b[0m",
      "\u001b[1;31mAttributeError\u001b[0m                            Traceback (most recent call last)",
      "Cell \u001b[1;32mIn[6], line 10\u001b[0m\n\u001b[0;32m      6\u001b[0m table \u001b[38;5;241m=\u001b[39m \u001b[38;5;124m\"\u001b[39m\u001b[38;5;124mvideo_analysis\u001b[39m\u001b[38;5;124m\"\u001b[39m\n\u001b[0;32m      8\u001b[0m \u001b[38;5;66;03m# Insert a new row into the video_analysis table\u001b[39;00m\n\u001b[0;32m      9\u001b[0m db[table]\u001b[38;5;241m.\u001b[39minsert({\n\u001b[1;32m---> 10\u001b[0m     \u001b[38;5;124m\"\u001b[39m\u001b[38;5;124mdatetime\u001b[39m\u001b[38;5;124m\"\u001b[39m: \u001b[43mdatetime\u001b[49m\u001b[38;5;241;43m.\u001b[39;49m\u001b[43mdatetime\u001b[49m\u001b[38;5;241m.\u001b[39mnow(datetime\u001b[38;5;241m.\u001b[39mUTC),\n\u001b[0;32m     11\u001b[0m     \u001b[38;5;124m\"\u001b[39m\u001b[38;5;124mvideo_id\u001b[39m\u001b[38;5;124m\"\u001b[39m: video_id,\n\u001b[0;32m     12\u001b[0m     \u001b[38;5;124m\"\u001b[39m\u001b[38;5;124mtranscript\u001b[39m\u001b[38;5;124m\"\u001b[39m: full_transcript,\n\u001b[0;32m     13\u001b[0m     \u001b[38;5;124m\"\u001b[39m\u001b[38;5;124mmodel\u001b[39m\u001b[38;5;124m\"\u001b[39m: model,\n\u001b[0;32m     14\u001b[0m     \u001b[38;5;124m\"\u001b[39m\u001b[38;5;124mai_explanation\u001b[39m\u001b[38;5;124m\"\u001b[39m: ai_explanation\n\u001b[0;32m     15\u001b[0m })\n",
      "\u001b[1;31mAttributeError\u001b[0m: type object 'datetime.datetime' has no attribute 'datetime'"
     ]
    }
   ],
   "source": [
    "from sqlite_utils import Database\n",
    "from datetime import datetime\n",
    "\n",
    "# Initialize the database\n",
    "db = Database(\"video_data.db\")\n",
    "table = \"video_analysis\"\n",
    "\n",
    "# Insert a new row into the video_analysis table\n",
    "db[table].insert({\n",
    "    \"datetime\": datetime.datetime.now(datetime.UTC),\n",
    "    \"video_id\": video_id,\n",
    "    \"transcript\": full_transcript,\n",
    "    \"model\": model,\n",
    "    \"ai_explanation\": ai_explanation\n",
    "})"
   ]
  },
  {
   "cell_type": "code",
   "execution_count": null,
   "metadata": {},
   "outputs": [],
   "source": [
    "for row in db[table].rows:\n",
    "    print(row)"
   ]
  },
  {
   "cell_type": "markdown",
   "metadata": {},
   "source": [
    "## Possible future work:\n",
    "\n",
    "To enhance the morning summary for a day trader focusing on cryptocurrency, you can incorporate additional data points that provide a comprehensive view of the market. Here are some suggestions:\n",
    "\n",
    "1. **Market Sentiment Analysis**:\n",
    "   - Use sentiment analysis tools to gauge the overall market sentiment from social media platforms like Twitter, Reddit, and crypto forums.\n",
    "   - Incorporate sentiment scores or trends to provide insights into the general mood of the market.\n",
    "\n",
    "2. **Technical Indicators**:\n",
    "   - Include key technical indicators such as moving averages (e.g., 50-day, 200-day), RSI (Relative Strength Index), MACD (Moving Average Convergence Divergence), and Bollinger Bands.\n",
    "   - Highlight any significant technical patterns or signals (e.g., golden cross, death cross).\n",
    "   - Ben Cowan (into the crypto verso): bull market support band, dominance\n",
    "\n",
    "3. **News and Events**:\n",
    "   - Summarize recent news articles or headlines that could impact the crypto market, such as regulatory changes, major partnerships, or technological advancements.\n",
    "   - Include a calendar of upcoming events like earnings reports, economic data releases, or major conferences.\n",
    "\n",
    "4. **On-Chain Data**:\n",
    "   - Provide insights from on-chain data such as transaction volumes, active addresses, and large transactions (whale movements).\n",
    "   - Highlight any unusual activity that could indicate market manipulation or significant interest.\n",
    "\n",
    "5. **Volatility Index**:\n",
    "   - Include a measure of market volatility, such as the Crypto Volatility Index (CVI), to help traders assess potential risk levels.\n",
    "\n",
    "6. **Exchange Flows**:\n",
    "   - Track the inflow and outflow of cryptocurrencies on major exchanges to identify potential buying or selling pressure.\n",
    "\n",
    "7. **Correlation with Other Markets**:\n",
    "   - Analyze the correlation between cryptocurrencies and other asset classes like stocks, gold, or fiat currencies to understand broader market trends.\n",
    "\n",
    "8. **Regulatory Updates**:\n",
    "   - Provide updates on any regulatory developments that could affect the crypto market, such as new laws or enforcement actions.\n",
    "\n",
    "9. **Macro-Economic Indicators**:\n",
    "   - Include relevant macroeconomic indicators such as interest rates, inflation data, and employment figures that could influence market sentiment.\n",
    "\n",
    "10. **Community and Developer Activity**:\n",
    "    - Track activity on platforms like GitHub to gauge the level of development and community engagement for specific cryptocurrencies.\n",
    "\n",
    "By incorporating these data points, you can provide a more holistic and actionable morning summary for day traders in the crypto market."
   ]
  },
  {
   "cell_type": "markdown",
   "metadata": {},
   "source": [
    "## Experiments"
   ]
  },
  {
   "cell_type": "code",
   "execution_count": null,
   "metadata": {},
   "outputs": [],
   "source": [
    "%pip install tradingview-ta"
   ]
  },
  {
   "cell_type": "code",
   "execution_count": null,
   "metadata": {},
   "outputs": [],
   "source": [
    "from tradingview_ta import TA_Handler, Interval, Exchange\n",
    "\n",
    "btc = TA_Handler(\n",
    "    symbol=\"BTCUSDT.P\",\n",
    "    screener=\"crypto\",\n",
    "    exchange=\"binance\",\n",
    "    interval=Interval.INTERVAL_1_DAY\n",
    ")\n",
    "print(\"BTCUSDT Futures\", btc.get_analysis().summary)\n",
    "# Example output: {\"RECOMMENDATION\": \"BUY\", \"BUY\": 8, \"NEUTRAL\": 6, \"SELL\": 3}"
   ]
  },
  {
   "cell_type": "code",
   "execution_count": null,
   "metadata": {},
   "outputs": [],
   "source": []
  }
 ],
 "metadata": {
  "kernelspec": {
   "display_name": "Python 3",
   "language": "python",
   "name": "python3"
  },
  "language_info": {
   "codemirror_mode": {
    "name": "ipython",
    "version": 3
   },
   "file_extension": ".py",
   "mimetype": "text/x-python",
   "name": "python",
   "nbconvert_exporter": "python",
   "pygments_lexer": "ipython3",
   "version": "3.12.1"
  }
 },
 "nbformat": 4,
 "nbformat_minor": 2
}
