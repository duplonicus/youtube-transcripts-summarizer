{
 "cells": [
  {
   "cell_type": "code",
   "execution_count": null,
   "metadata": {},
   "outputs": [],
   "source": [
    "%pip install youtube-transcript-api openai pyonepassword"
   ]
  },
  {
   "cell_type": "code",
   "execution_count": 29,
   "metadata": {},
   "outputs": [],
   "source": [
    "from youtube_transcript_api import YouTubeTranscriptApi\n",
    "from openai import OpenAI\n",
    "from pyonepassword import OP\n",
    "\n",
    "op = OP()\n",
    "openai_key = op.item_get('ociiuq6gchlgrjr2fopzbndrnq').credential\n",
    "client = OpenAI(api_key=openai_key)"
   ]
  },
  {
   "cell_type": "code",
   "execution_count": 30,
   "metadata": {},
   "outputs": [],
   "source": [
    "video_id = \"g0CZVvenRa0\" # ID from video URL\n",
    "transcript = YouTubeTranscriptApi.get_transcript(video_id)\n",
    "full_transcript = ' '.join(entry['text'] for entry in transcript)"
   ]
  },
  {
   "cell_type": "code",
   "execution_count": 31,
   "metadata": {},
   "outputs": [
    {
     "data": {
      "text/plain": [
       "\"In this stream, Tino shares concerns about Bitcoin's short-term outlook. He highlights that there is a surge in open interest due to high leverage and low actual trading volume, which poses a risk for a price correction. Tino advises traders to take profits if they're in positive positions, as relying on the current upward movement could be risky without substantial trading volume backing it. There is also talk about external factors, such as the Bank of Japan’s interest rate decisions, which could indirectly affect Bitcoin and broader market dynamics.\\n\\nTino points out that Bitcoin has been moving up and testing higher levels, with a significant zone around $70,000. However, he warns that a pullback could occur, given the lack of substantial volume. He discusses external market factors including tech stocks, the U.S. dollar's strength, and potential implications of an ETF that could affect crypto markets. Importantly, he mentions that whales have been accumulating Bitcoin but warns their selling at any slight profit margin could add pressure.\\n\\n**Directional Bias:** Cautiously bearish in the short term. Tino suggests taking some profits due to the risks posed by high leverage without real volume, especially given the location near a potential reversal point.\\n\\n**Reading Between the Lines:** Tino’s cautious stance indicates a potential for a shakeout, likely a planned market move to liquidate over-leveraged positions. He's implying that while Bitcoin is showing some upward movement, the lack of genuine volume could mean this is more of a trap than a sustainable rally. Tino’s continuous recommendation to take profits suggests he anticipates market volatility possibly leading to a downward move.\""
      ]
     },
     "execution_count": 31,
     "metadata": {},
     "output_type": "execute_result"
    }
   ],
   "source": [
    "chat_completion = client.chat.completions.create(\n",
    "    model=\"gpt-4o\",\n",
    "    messages=[\n",
    "        { \"role\": \"system\", \"content\": \"You summarize youtube transcripts to help traders determine a directional bias and have a profitable day.\" },\n",
    "        {\n",
    "            \"role\": \"user\",\n",
    "            \"content\": f\"Summarize the transcript and determine Tino's directional bias. Also read between the lines to determine what's actually being said and explain. Transcript: {full_transcript}\",\n",
    "        }\n",
    "    ])\n",
    "chat_completion.choices[0].message.content"
   ]
  }
 ],
 "metadata": {
  "kernelspec": {
   "display_name": "Python 3",
   "language": "python",
   "name": "python3"
  },
  "language_info": {
   "codemirror_mode": {
    "name": "ipython",
    "version": 3
   },
   "file_extension": ".py",
   "mimetype": "text/x-python",
   "name": "python",
   "nbconvert_exporter": "python",
   "pygments_lexer": "ipython3",
   "version": "3.11.0"
  }
 },
 "nbformat": 4,
 "nbformat_minor": 2
}
