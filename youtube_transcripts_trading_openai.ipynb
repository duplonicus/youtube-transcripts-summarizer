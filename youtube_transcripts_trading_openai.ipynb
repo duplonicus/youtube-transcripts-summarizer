{
 "cells": [
  {
   "cell_type": "markdown",
   "metadata": {},
   "source": [
    "## Requirements"
   ]
  },
  {
   "cell_type": "code",
   "execution_count": null,
   "metadata": {},
   "outputs": [],
   "source": [
    "%pip install youtube-transcript-api openai pyonepassword sqlite_utils anthropic"
   ]
  },
  {
   "cell_type": "markdown",
   "metadata": {},
   "source": [
    "## Youtube transcript summarizer"
   ]
  },
  {
   "cell_type": "code",
   "execution_count": 3,
   "metadata": {},
   "outputs": [],
   "source": [
    "video_id = \"JP2Rwz63xeU\" # ID from video URL"
   ]
  },
  {
   "cell_type": "code",
   "execution_count": 21,
   "metadata": {},
   "outputs": [
    {
     "data": {
      "text/markdown": [
       "### Thinking:\n",
       "The user wants a concise summary of the long trading livestream transcript, including all asset pairs mentioned, the trader’s directional bias, and “reading between the lines” commentary. They also want a personal update about the trader if mentioned. I will parse the transcript into major themes: macro (Buffett in yen bonds, rates, safe havens, trade war), FX/indices/crypto technical and flow analysis, equity names, bond yields, strategy advice. Then I’ll capture the trader’s net directional bias: bullish JPY and EUR, bearish USD/non-US safe havens, cautious US equities, conditional on bond/gold flows, cautious Bitcoin until clear breakout. For “read between the lines,” I’ll highlight the critique of policy inconsistency, insider signals (Buffett), and carry-trade dynamics. Finally, note any personal update: the trader is coding a bot and has adjusted the livestream time."
      ],
      "text/plain": [
       "<IPython.core.display.Markdown object>"
      ]
     },
     "metadata": {},
     "output_type": "display_data"
    },
    {
     "data": {
      "text/markdown": [
       "### Response:\r\r**Summary of Key Points**  \n",
       "- **Warren Buffett & Japan**  \n",
       "  - Buffett’s Berkshire issued ¥90 billion in yen bonds at ~9.14%—far above euro (4.11%) or Fed rates (4–4.5%).  \n",
       "  - Implies expectation of BOJ rate hikes; classic carry-trade setup.  \n",
       "  - “Read between the lines”: insiders (Buffett) see big yield and currency recovery ahead.\n",
       "\n",
       "- **Macroeconomic & Trade-War Outlook**  \n",
       "  - US durable goods data mixed; labor market still “strong.”  \n",
       "  - Trump’s ongoing tariff talk/frustrating flip-flops create uncertainty.  \n",
       "  - Safe-haven flows into JPY, EUR, CHF, gold as investors sit on sidelines.\n",
       "\n",
       "- **FX Technical Bias**  \n",
       "  - EUR/USD: selling off, testing daily opens.  \n",
       "  - USD broadly basing but likely topping if rates plateau.  \n",
       "  - USD/JPY: warning against long USD/JPY—yen strength coming via BOJ intervention and rate hikes.\n",
       "\n",
       "- **Equities & Indices**  \n",
       "  - NASDAQ modest bounce but “fishy” near Asian session high; needs strong closes.  \n",
       "  - Tesla flat; Nvidia volatile but trending lower toward $90 area.  \n",
       "  - Small breakout names (NatWest, StoneX, Stride) lack “staple” volume—weak breadth.\n",
       "\n",
       "- **Bond Market**  \n",
       "  - 10-year yields down (~0.46% drop), 2- and 5-year yields gradually rising.  \n",
       "  - Trader wants a “bond crash” to reset and fuel next rally.\n",
       "\n",
       "- **Crypto & Bitcoin**  \n",
       "  - Bitcoin rangebound: key support ~₿90 479, resistance ~₿95 000.  \n",
       "  - ETF flows ~$93 m in, but AUM stuck ~573 K—no breakout fuel yet.  \n",
       "  - Order-flow: bids under price, drying offers—cautious neutral bias until clean break.  \n",
       "  - Altcoins (Solana) move faster; 5/13 EMA cross above 50 EMA is momentum signal.\n",
       "\n",
       "- **“Read Between the Lines” Insights**  \n",
       "  - Policy inconsistency (Trump, Fed) is a smokescreen; real moves driven by yield-chasing and insider positioning.  \n",
       "  - Carry traders will flood high-yielding yen and euro bonds, pressuring USD assets.  \n",
       "  - The real story isn’t tariffs or headlines but interest-rate differentials and currency dynamics.\n",
       "\n",
       "**Trader’s Directional Bias**  \n",
       "- Bullish JPY and EUR (carry-trade yields).  \n",
       "- Bearish USD (expected to weaken vs. JPY/EUR).  \n",
       "- Cautious US equities (pending bond-market crash/reset).  \n",
       "- Neutral/borderline bearish Bitcoin until >₿95 000 breakout; bearish if <₿90 479.  \n",
       "- Long gold, CHF as safe havens.\n",
       "\n",
       "**Personal Update**  \n",
       "- Trader is coding a trading bot for personal use (not to sell).  \n",
       "- Adjusted today’s live-stream start time as an experiment.  \n",
       "- Sending “mad love” and heading to another session later tonight."
      ],
      "text/plain": [
       "<IPython.core.display.Markdown object>"
      ]
     },
     "metadata": {},
     "output_type": "display_data"
    }
   ],
   "source": [
    "from youtube_transcript_api import YouTubeTranscriptApi\n",
    "import openai\n",
    "from pyonepassword import OP\n",
    "\n",
    "op = OP()\n",
    "key = op.item_get('s576pdaoabtgsza6hh4tyhfxzq').credential\n",
    "client = openai.OpenAI(api_key=key)\n",
    "\n",
    "model = \"o4-mini-2025-04-16\"\n",
    "\n",
    "transcript = YouTubeTranscriptApi.get_transcript(video_id)\n",
    "full_transcript = \" \".join(chunk[\"text\"] for chunk in transcript)\n",
    "\n",
    "system_prompt = \"\"\"\n",
    "You are a helpful assistant.  When you answer, follow this exact format:\n",
    "\n",
    "### Thinking:\n",
    "<your private, step-by-step reasoning chain-of-thought goes here>\n",
    "\n",
    "### Response:\n",
    "<the concise summary / trader bias / personal update>\n",
    "\"\"\"\n",
    "\n",
    "user_prompt = (\n",
    "    \"Summarize the transcript. If the video is about trading, summarize the trader's directional bias. \"\n",
    "    \"Also read between the lines to determine what's ACTUALLY being said and explain. \"\n",
    "    \"Use markdown formatting. Don't skip any asset pairs mentioned. \"\n",
    "    \"Write a personal update about the trader at the end if he mentions anything.\\n\\n\"\n",
    "    f\"Transcript: {full_transcript}\"\n",
    ")\n",
    "\n",
    "response = client.chat.completions.create(\n",
    "    model=\"o4-mini\",\n",
    "    messages=[\n",
    "        {\"role\": \"system\",  \"content\": system_prompt},\n",
    "        {\"role\": \"user\",    \"content\": user_prompt},\n",
    "    ],\n",
    ")\n",
    "\n",
    "# 5) Pull out the single content blob\n",
    "full_content = response.choices[0].message.content\n",
    "\n",
    "# 6) Split it on the headings and display neatly\n",
    "if \"### Response:\" in full_content:\n",
    "    thinking, response = full_content.split(\"### Response:\", 1)\n",
    "    display(Markdown(thinking.strip()))\n",
    "    display(Markdown(\"### Response:\\r\\r\" + response.strip()))\n",
    "else:\n",
    "    # fallback if the model didn't follow the exact headings\n",
    "    display(Markdown(full_content))"
   ]
  },
  {
   "cell_type": "code",
   "execution_count": 18,
   "metadata": {},
   "outputs": [
    {
     "data": {
      "text/plain": [
       "''"
      ]
     },
     "execution_count": 18,
     "metadata": {},
     "output_type": "execute_result"
    }
   ],
   "source": [
    "response.choices[0].message.content"
   ]
  },
  {
   "cell_type": "code",
   "execution_count": 15,
   "metadata": {},
   "outputs": [
    {
     "data": {
      "text/plain": [
       "'so what\\'s Warren Buffett up to now we\\'ve been paying attention to what this dude has been getting on with Japan and it might not be a good thing ladies and gentlemen maybe he\\'s getting himself ready for a specific position that could actually come into fruition based on what Japan has in store for us welcome to today\\'s live stream ladies and gentlemen we\\'re going to try and keep this one again nice and short and sweet give you a few things that you need to be aware of on what is actually developing across the board we\\'re going to dive into what\\'s happening with Forex Bitcoin and all of that madness and fun and games so if you are new hit the like button subscribe the market opens in roughly around 15 minutes time so we\\'re going to try and get as much information out to you as possible so I hope you\\'re all doing well i\\'m not late i\\'m just changing the time for the live that\\'s that just for today just to see how it goes so let\\'s get with the program ladies and gentlemen and break it all down for you so just a quick overview on what\\'s going on we\\'ve got a couple of assets in front of you right now a few actually so we\\'ve got the euro on the left dollar in the middle and the NASDAQ on the right just paying attention to what\\'s going on we\\'ve had some news announcements that haven\\'t exactly been that great in the sense where the data has come out showing that core durable goods orders came in at 9.2% 2% and then durable goods orders month on month came in lower but unemployment claims coming in as usual in the normal routine so the labor market is kind of strong going over into what\\'s going on across the board tariff concerns dollars weakening the White House keeps on changing the post guys and investors are getting a little bit frustrated about where they\\'re going to position their capital not Warren ladies and gentlemen warren has picked up $90 billion worth of sorry billion yen why is Warren picking up 90 billion yen does he know something is it because the rates of return on the Japanese yen are kind of good well let\\'s just go and have a look 9.14% ah yeah you know what that looks like a nice flavorsome figure to me 4.11% on the euro as well that\\'s very interesting isn\\'t it so it\\'s like we kind of get an insight into where money could effectively be going going into the article itself it says here that Warren Buffett\\'s Burkshshire Haway issued six new yen bonds worth 90 billion yen now the word on the street is that they are going to look to try and increase their interest rate so if you\\'re going to get an increase on interest rate you might as well get yourself locked in with a decent rate of return on the bonds so it does pay to hold bonds in Japan so if that\\'s going to be the case and we have any history repeating itself then the story is that maybe it might not be a good thing for everything else across the board breaking it all down for you ladies and gentlemen we\\'re going over and have a look at what\\'s going on you got the euro taking a bit of a mad move to the downside right now let me just quickly just flip this over happy days now so euro coming back down a little bit hasn\\'t tested the daily open as such going over into the strength of the dollar dominance itself you can see that dollar is basing out at these lows right now you\\'ve got the NASDAQ itself coming into it\\'s done a nice little bounce from this range guys but it\\'s a little bit fishy saying that it can\\'t really clear out the Asian session high rolling over into Bitcoin right now see Bitcoin trying to make a little bit of traction to the upside daily open is something that they haven\\'t tested in a little while but investors are all over the place with what\\'s going to be revealed today look at this donald Trump is a busy dude today he\\'s moving about so when he\\'s traveling the markets are all good all right but he\\'s going to be having a meeting with the king um the prime minister of Norway is he going to mention anything about tariffs more than likely is he going to talk about his executive orders tariffs more than likely now they\\'re going to be having a little bit of leeway on Chinese auto parts as well so the the problem that I\\'ve got with that is is of course Bessant said yesterday that the trade deal story with China might last around two to three years what the hell two to three years of this madness of back and forth no thank you quickly breaking it all down for you having a look at what else we\\'ve got going off across the board go into the actual order flow for Bitcoin now we\\'ve got some bids right here that could give us the idea that there may be some interest down below the offers are starting to dry up inside of this range right here guys so if they\\'re not offering that means no one\\'s selling that could imply that there\\'s not going to be that much interest to start buying Bitcoin but they buy it when it drops and that\\'s what you\\'ve got to be very cautious about they buy when prices go down and they sell it when prices go up now with that being said going into the liquidations we do have quite a few liquidations around the 94 zone but there is speculation that 95K could be the resistance point for Bitcoin so what will trigger the breakout in essence it\\'s the ETF so we had $93 million worth of inflows in the ETF a couple of days ago so it looks kind of promising but we\\'re still at the balance of 573 looking at where we are on the ETF you can see there\\'s been quite a bit of movement happening on the ETF which is good news for us because as long as people are going into the ETF Logic says that Bitcoin\\'s price should be fluctuating in at the benefit of that the problem is is the ETF hasn\\'t gone up in balances like there\\'s not been a milestone hit just yet it just keeps on bouncing around this 573 574 and then goes down to 571 it\\'s not really developing much but is this a potential play in the sense where are they using the Bitcoin ETF and buying spot on there and shorting Bitcoin futures that\\'s something that we\\'ve got to take into consideration when we deal with that now with that being said going into it all the article does go on to say that this trade war with with with Trump and China has got a lot of investors seeking safe havens so going back into it safe havens Japanese yen Japanese yen is up today 66% of course if they\\'re going to increase the interest rates then we\\'re going to have a problem in the near future and if you want to understand what kind of impact the market has when they increase interest rates go and look at the 5th of August last year so that was a bit of a problem where the stock market took a nose dive on the back of that information other safe haven assets that we got right here is gold gold is starting to pull back ever so slightly now the idea is that you\\'re probably going to see gold bouncing up and down there for a little bit as investors try and gauge the idea of where investors heads are at with regards to the tariffs this back and forth with the White House and not giving investors the clear path to put money to work has got investors saying you know what we just need to keep on going into what we know and that is the safe haven environment now the safe haven environment includes gold itself it does include the euro and it does include the Japanese yen and it includes the Swiss Frank so when you start seeing those assets being mentioned together it tells you that investors are effectively seeking the safety of safe havens they don\\'t want to take the risk of going risk on into the asset classes and that means the NASDAQ itself yep NASDAQ looks like it\\'s up.1 um it is up.18% for the day it\\'s currently stalling at the daily open and then we go into other assets we\\'ve got Tesla which is effectively Hold on where\\'s Tesla where is my out of ours market hold on a second where is my price point out of ours market it\\'s actually not even moved that\\'s decent so Tesla\\'s not even gapping up or down going into Nvidia nvidia\\'s gapping up ever so slight and you can see the volatility it\\'s all crazy look gap up gap down it\\'s kind of interesting but I do believe that Nvidia is still on the trajectory to start working itself lower back down to the 90 mark i\\'m looking for that logic itself dollar yen dollar yen is very interesting because of course with regards to Donald um Warren Buffett picking up these big amounts of yen could be that he\\'s he\\'s fully aware that these guys are going to increase their interest rates in the near future so there could be more volatility coming into play but Japan has kind of dismissed the idea that the tariffs are going to impact their decision on increasing the interest rates that\\'s why you\\'re now hearing about a potential deal with Japan it\\'s going to be all good and what have you but I don\\'t think Japan cares realistically too much about the tariffs it\\'s already got a problem of deflation its asset is completely annihilated and any conversation that you hear Trump having it\\'s about the manipulation of the currency of the yen and that\\'s what Trump doesn\\'t want he wants the Japanese yen to be revalued in principle so that both parties see the benefit because when the yen is going down it naturally encourages investors to go over there and borrow money trump doesn\\'t want that he wants you to borrow dollars but when you\\'re borrowing dollars and you\\'re having to pay 4.5% on that amount with no trajectory of seeing them cutting the rates we just had one of the Fed speakers suggesting yeah maybe in June we\\'ll probably do something but certainly not in May so then that means that this bet right here about the interest rates 93.9 it\\'s it\\'s it\\'s still staying high now you got to ask yourself the question why did Trump even bother mentioning that he wanted to get rid of power to only turn around and say \"Look we\\'re going to keep him in but we just want him to hurry up with the interest rates.\" Obviously there\\'s powers that be behind Trump in my opinion i think that\\'s the case if you don\\'t believe that well I think there is some logic behind it but his back and forth continuously is going to be a bit of a problem for investors but the only thing you can do ladies and gentlemen is when you look at things like this when you want to get a feel for what money could be doing you\\'re getting 4.11% on the euro and 9.14% on the yen that\\'s where the yield is and if you\\'re an investor a hedge fund manager what is your goal yield that\\'s all you care about where can I make my money work for itself okay now going into that let\\'s go and have a look at the bond market itself and then we can finalize the day and keep it short and sweet smart money is not backing this Bitcoin move yeah I\\'d probably agree with you on that one so let\\'s see what Smart Money is really doing 10-year bonds market looking like it\\'s trading higher it\\'s up 046% for the day going into the 2-year yield that is down but it\\'s starting to show a little bit of interest to start working its way up 5year is down but coming up and also the 10-year and the 30-year seem to be they\\'re stuck in a range which explains why the NASDAQ has effectively made a little bit of a move to the upside because the yields are down but I warn you please please please the fact that Warren is going over and buying yen okay and he\\'s buying yen bonds means that he is in the expectation that his return later on is going to be much more better but he\\'s also buying companies Okay so if Japan increases the interest rates even though the interest rates are so low it\\'s still going to grab investors attention to try and take advantage of that yield at a higher rate so it\\'s like a catch 22 it\\'s it\\'s the benefit for Japan and that\\'s what Trump doesn\\'t want you\\'re in essence encouraging foreign investors to go to Japan because your dollar right now is just too expensive and that\\'s why Trump keeps banging on about cutting the rates cutting the rates just to encourage people to invest in the bonds market question um Tino I just joined the platinum membership how do I know I joined the real one not a fake one my username is anchored VWAP could you please search me up on the Discord if you don\\'t mind okay go to the website chat in the website we\\'ve got a chat please reach out over there it\\'s unless there\\'s no there\\'s only one platinum membership man yeah come to the website chat and give us a shout and we\\'ll we\\'ll we\\'ll conversate over there my friend um any questions ladies and gentlemen yeah PNG earnings yeah Proctor and Gamble didn\\'t exactly inspire confidence yeah but the thing is right with those sort of companies they are cashri companies i mean let\\'s just have a look at where we are with the stock market so Wednesday\\'s action you saw 403 stocks up and then down 103 stocks but you\\'ve only got four stocks breaking out today and 18 near a pivot inside of those four stocks what are the staple names do we see anyone that we recognize that\\'s what you look for when you see stocks breaking out we\\'ve got Nat West Group which is in principle uh okay it\\'s a bank let\\'s be honest now having a look you\\'ve got a bank that\\'s breaking out looking like $12.76 volume is very very good at 6.7 million a sh um average daily volume which is good then you\\'ve got Stone X Group right there what is that average daily volume no good for me cuz it\\'s too small it\\'s below half a It\\'s below a million virtual Finance just under a million over a million not really a company that we all know as a staple and then you\\'ve got Stride right here which is effectively 700,000 and it\\'s consumer services education these are not staple names when you got when you\\'ve got um Google Amazon Apple or any companies that do carry weight in the sense where their average daily volume is above a million shares or more then you can add weight to the idea that the market is trying to make movements to the upside going into the NASDAQ to have a look at where we are with the volume accumulation you can see that NASDAQ today well yesterday had a volume bar close above the 50-day average which is good news but price didn\\'t close so strongly at its range look right there that little bar right there is showing it\\'s closing very very close to its open sorry to its lows of the range that\\'s not a good candle because even though the volume is above average it\\'s showing you that there was a lot of selling or marking down which brought the actual index down and it\\'s just managed to barely close positive that\\'s no good for us ladies and gentlemen we need to see strong closes to suggest the idea of accumulation to the upside now with that being said quickly going over and have a look at where Bitcoin is in relation to this candlestick right here on the daily time frame here we go so what have we got so Bitcoin H so we\\'ve had one two three candlesticks right now this vector here is going to solidify the idea if Bitcoin does have weight to continue higher if they do break down and go beyond the midpoint of this vector candle 90,479 is the test if Bitcoin invalidates that it\\'s dust bin ladies and gentlemen we\\'re going to the bin that\\'s the truth so you know I\\'m trying to code a trading bot okay bot for myself not to sell by the way what would you say is the perfect percentage of a stop loss there\\'s no such thing as a perfect percentage stop-loss everyone throws about the 1% and what have you but it\\'s all down to your tolerance of risk what can you absorb what can you handle okay so it\\'s risk risk stop losses are just an absolute joke when it comes to it because there\\'s no all one round figure for it that\\'s the truth of it do you think the markets will take a dive around May 7th if the rates don\\'t get cut but also initial result of the April 10 tariffs where containers were sent back to China and retail stores running empty okay look this is when we see on a larger scale i mean the problem that we\\'ve got now is layoffs are starting to happen where Intel\\'s trying to get rid of 20% of its workforce so that\\'s going to have a nice impact on the Fed because they then will start cutting rates if it does start to compromise the economy and when you get a compromising situation with the labor market well the labor market is going to tell you if your economy is good or not but what do you hear them saying all the time you hear them saying that the labor market is good everything is fine don\\'t worry we are strong we are strong why should they cut the rates they need to get down to 2% so regardless of whatever tankers aren\\'t getting their products over and what have you ultimately when you look at that you got to say to yourself okay then what companies are going to be impacted by that cuz I\\'m going to think about that not from a macro perspective but look at it from an opportunity and say to myself okay if I think that there\\'s going to be a reduction in supplies or any products that aren\\'t getting over to China and from China then what are the companies that are involved in that and then what\\'s that going to do to them well if I think it\\'s going to have a negative impact let me go and have a look at what their cash flow is and if their cash flow is okay then it means that they can absorb any discrepancies that might actually happen in the marketplace always when you\\'re dealing with stock ladies and gentlemen look at a fundamental look at the stock\\'s cash value look at its cash holdings how is it managing cash because any of these instances where we\\'re seeing the markets correcting and what have you naturally those companies are going to be able to survive all of that madness okay focus on the cash flows mad love to you man thank you Devin been a while i hope you make it to 130K subscribers soon and many more mad love to you my bro yeah if you are new hit the like button subscribe it\\'s free to do you didn\\'t have to do that my bro thank you so much man any other questions ladies and gentlemen but this cycle strange and different with hedge funds on Wall Street getting involved they only want the bitty yeah I guess tina do you trade the idea of the five and 13 EMA with multiple tokens not just Bitcoin yeah listen look a move in Bitcoin okay if you see Bitcoin moving aggressively to the upside um let\\'s just let\\'s look at it like this right bitcoin is slow it\\'s a slowmoving asset in principle okay but then when you look at Salana it\\'s a little bit more faster okay so when you\\'re making reference to the 5 and 13 EMA if you are new go and do this course on the traders reality website go and do it it\\'s a free course and you will understand the five and 13 EMA all the moving averages of course everything is not there there you go so this one right here breaking down the hybrid system do this free course it will take you an hour it\\'s going to help you understand the hybrid system which is what we trade on this chart right here you\\'ve got the logic of the green blue vectors and EMAs and whatnot so this is where the basis and the foundation of this system will be taught inside of that free course right there so go and check that bad boy out but in regards to the 5 and 13 EMA a basic basic way to trade it in principle is look at it in reference to the 50 EMA if the five and 13 EMA are moving above the 50 EMA and they\\'re crossing over that\\'s a good momentum sign that\\'s a sign that they could continue with the narrative to the upside altcoins will be moving faster so take that into consideration so the bigger the asset the slower it moves the longer it might take for the momentum to start breaking down of course if there\\'s any wild news announcements so just take that into consideration when you are trading it but a basic strategy is when the five and 13 EMA which is this yellow line and this red line when they cross over the 50 EMA which is this purple cloud blue line that suggests that momentum is going to start coming into the chart with that being said look left to see if you can justify the crossover by looking for previous vectors to get recovered okay so just look at any previous structures that they\\'ve got and then look to try and see if you can exploit the move to the upside on that narrative okay um Tina should we buy USD JPY no you shouldn\\'t you shouldn\\'t buy USD JPY why the reason why you shouldn\\'t buy USD JPY is because I don\\'t think dollar\\'s strength is done all right i don\\'t know who said it yesterday but they said \"Yeah the dollar is in the best place it can be.\" That\\'s ECB speaker turned around and said \"The dollar is in the best place that it can be.\" I think he\\'s taking the piss because you have zero purchasing power on your dollar right now zero purchasing power 98 man no thank you it\\'s not very good you know but in regards to dollar yen itself because you anyone that\\'s trading dollar yen just be mindful when Trump has a conversation with anyone from Japan because Trump\\'s goal is to address the idea that there is manipulation in the forex markets especially with the Japanese listen to this look let me show you what I\\'m talking about in front of you right now is going to be a concept called Japan FX intervention okay so this chart right here shows you that when the Bank of Japan wants to deflate the value of the dollar against the Japanese yen because they can\\'t really have too much of a strong dollar against the yen okay so what do they do they go and buy a ton load of dollars and then sell them into yen which in principle reduces the value of dollar against the yen and you see these blue lines right here this is where they intervene okay this is where they go and buy lots and lots of dollars convert it into yen so that they can just bring down the appreciation of the dollar yen right this is what Trump wants to stop cuz he\\'s convinced that they are manipulating which in they are manipulating the markets man come on they really are look at your yen and it\\'s just so smacked to the downside it\\'s got more zeros than a flipping meme coin got meme coins performing better than the Japanese yen and on top of that this is a safe haven so if Warren Buffett is buying up yen it means that they\\'re getting ready for some yen recovery guys mark my words they are going to eat this liquidity like no tomorrow carry trade ladies and gentlemen that\\'s what\\'s happening with that being said if you\\'ve enjoyed today Fcoin do you know what in the platinum membership there is only one coin that they talk about and they make money on this coin right it\\'s fartcoin what a coin i\\'ve not said anything to any of them right because they\\'re getting their analysis bang on every time like they\\'re making money just on this coin leave them be fcoin is a very very very good asset to trade it moves so aggressively okay but looking at it you can see that it\\'s just I mean this thing like what last week like these are just it\\'s just a brilliant asset it just respects everything you see a vector candle will come back into it cover it bounce 50 EMA it\\'s one of those assets that you can really really enjoy trading of course be careful with it but it is a nut job it just the the conversations I\\'ve seen the guys having about it it\\'s mad we trade the NASDAQ the S&P Euro gold Bitcoin then every 5 minutes you seeing the word fartcoin i\\'m like who\\'s who\\'s farted like why why are you farting and and there\\'s all these little indirect jokes like took a short on fart and some will say happens and it\\'s Anyways yes that\\'s fine anyways any other questions ladies and gentlemen tina any thoughts on the pound versus the dollar from the point of view timing buying US equities into an ISA do not buy US equities yet in my opinion don\\'t buy them yet do not buy US equities just yet because if they\\'re not picking up bonds okay and they\\'re not really st in my opinion what I think is going to happen is this we\\'re waiting for in principle a bond crash we I want a bond crash and the reason why I want the bond market to crash is because it then realigns everything it sets everything up to reset to go back up again okay interest rates are too high yields are all over the place because the yields aren\\'t really reflecting that high rate of interest but what\\'s going on is investors are subject to changes in policy from the White House if there\\'s no consistency with trade deals and all of that stuff these things right here are very volatile and investors like I don\\'t know what to do should I go into the bonds now or all right let me get it out because we\\'re going to change the way things are going to be done over here in regards to the deal with China oh we got no deal with China or China says yes no us says no no where where shall we put our you know what forget it let\\'s just go into gold and just leave our money there that\\'s the problem we\\'ve got because you\\'ve got high interest rates because you\\'ve got inflation and because you\\'ve got competing currencies that are all out for everyone to grab the yield this is what Trump doesn\\'t like 4.11% on the euro and then you go over and it\\'s for 23 days you go on to a 2year on the dollar itself and look you\\'re getting 3.79 no thank you what carry the risk nah I\\'m not carrying that risk no no no no no no so then they go elsewhere and like your boy right here why are you buying yen man why is he buying yen from from a statistical point of view it makes sense 9.14% he\\'s buying Japanese stock they\\'re going to increase the interest rates they\\'re going to encourage more investors to come in that\\'s just going to make it difficult for any other asset against the US dollar um well yeah Bitcoin and Salana ETH and the gang as such but that\\'s my that\\'s my view on where we are from a macro perspective if the yield is there what\\'s going to happen is it\\'s not going to advertise and say look you can earn 4.11% over here but don\\'t worry you don\\'t have to do it because we want Bitcoin to the moon any nation that is getting ready to change something on their interest rates pay attention to that currency have a look at who\\'s getting involved in it and that\\'s going to tell you where risk is going to be going warren for example looks like Japanese stock is the way forward yen\\'s going to increase carry traders are going to wet the bed dollar\\'s going to go down euro is going to go up that can position you into the idea that US stocks are going to come down investors are going to go to European stocks and Japanese stocks look at their interest rates it\\'s cheap as chips with that being said ladies and gentlemen mad love and respect and I\\'ll be tuning into you all later on tonight take care of yourselves gang hit the like button subscribe it\\'s free peace stop winning'"
      ]
     },
     "execution_count": 15,
     "metadata": {},
     "output_type": "execute_result"
    }
   ],
   "source": [
    "full_transcript"
   ]
  },
  {
   "cell_type": "markdown",
   "metadata": {},
   "source": [
    "## Database"
   ]
  },
  {
   "cell_type": "code",
   "execution_count": 16,
   "metadata": {},
   "outputs": [
    {
     "ename": "AttributeError",
     "evalue": "'ChatCompletion' object has no attribute 'content'",
     "output_type": "error",
     "traceback": [
      "\u001b[1;31m---------------------------------------------------------------------------\u001b[0m",
      "\u001b[1;31mKeyError\u001b[0m                                  Traceback (most recent call last)",
      "File \u001b[1;32m~\\AppData\\Roaming\\Python\\Python312\\site-packages\\pydantic\\main.py:753\u001b[0m, in \u001b[0;36mBaseModel.__getattr__\u001b[1;34m(self, item)\u001b[0m\n\u001b[0;32m    752\u001b[0m \u001b[38;5;28;01mtry\u001b[39;00m:\n\u001b[1;32m--> 753\u001b[0m     \u001b[38;5;28;01mreturn\u001b[39;00m \u001b[43mpydantic_extra\u001b[49m\u001b[43m[\u001b[49m\u001b[43mitem\u001b[49m\u001b[43m]\u001b[49m\n\u001b[0;32m    754\u001b[0m \u001b[38;5;28;01mexcept\u001b[39;00m \u001b[38;5;167;01mKeyError\u001b[39;00m \u001b[38;5;28;01mas\u001b[39;00m exc:\n",
      "\u001b[1;31mKeyError\u001b[0m: 'content'",
      "\nThe above exception was the direct cause of the following exception:\n",
      "\u001b[1;31mAttributeError\u001b[0m                            Traceback (most recent call last)",
      "Cell \u001b[1;32mIn[16], line 16\u001b[0m\n\u001b[0;32m      8\u001b[0m \u001b[38;5;66;03m# Check for duplicate video_id\u001b[39;00m\n\u001b[0;32m      9\u001b[0m \u001b[38;5;28;01mif\u001b[39;00m \u001b[38;5;129;01mnot\u001b[39;00m db[table]\u001b[38;5;241m.\u001b[39mexists() \u001b[38;5;129;01mor\u001b[39;00m \u001b[38;5;129;01mnot\u001b[39;00m \u001b[38;5;28many\u001b[39m(row[\u001b[38;5;124m'\u001b[39m\u001b[38;5;124mvideo_id\u001b[39m\u001b[38;5;124m'\u001b[39m] \u001b[38;5;241m==\u001b[39m video_id \u001b[38;5;28;01mfor\u001b[39;00m row \u001b[38;5;129;01min\u001b[39;00m db[table]\u001b[38;5;241m.\u001b[39mrows):\n\u001b[0;32m     10\u001b[0m     \u001b[38;5;66;03m# Insert a new row into the video_analysis table\u001b[39;00m\n\u001b[0;32m     11\u001b[0m     db[table]\u001b[38;5;241m.\u001b[39minsert({\n\u001b[0;32m     12\u001b[0m         \u001b[38;5;124m\"\u001b[39m\u001b[38;5;124mdatetime\u001b[39m\u001b[38;5;124m\"\u001b[39m: datetime\u001b[38;5;241m.\u001b[39mnow(),\n\u001b[0;32m     13\u001b[0m         \u001b[38;5;124m\"\u001b[39m\u001b[38;5;124mvideo_id\u001b[39m\u001b[38;5;124m\"\u001b[39m: video_id,\n\u001b[0;32m     14\u001b[0m         \u001b[38;5;124m\"\u001b[39m\u001b[38;5;124mtranscript\u001b[39m\u001b[38;5;124m\"\u001b[39m: full_transcript,\n\u001b[0;32m     15\u001b[0m         \u001b[38;5;124m\"\u001b[39m\u001b[38;5;124mmodel\u001b[39m\u001b[38;5;124m\"\u001b[39m: model,\n\u001b[1;32m---> 16\u001b[0m         \u001b[38;5;124m\"\u001b[39m\u001b[38;5;124mai_explanation\u001b[39m\u001b[38;5;124m\"\u001b[39m: \u001b[43mresponse\u001b[49m\u001b[38;5;241;43m.\u001b[39;49m\u001b[43mcontent\u001b[49m[\u001b[38;5;241m1\u001b[39m]\u001b[38;5;241m.\u001b[39mtext\n\u001b[0;32m     17\u001b[0m     })\n\u001b[0;32m     18\u001b[0m \u001b[38;5;28;01melse\u001b[39;00m:\n\u001b[0;32m     19\u001b[0m     \u001b[38;5;28mprint\u001b[39m(\u001b[38;5;124mf\u001b[39m\u001b[38;5;124m\"\u001b[39m\u001b[38;5;124mVideo ID \u001b[39m\u001b[38;5;132;01m{\u001b[39;00mvideo_id\u001b[38;5;132;01m}\u001b[39;00m\u001b[38;5;124m already exists in the database.\u001b[39m\u001b[38;5;124m\"\u001b[39m)\n",
      "File \u001b[1;32m~\\AppData\\Roaming\\Python\\Python312\\site-packages\\pydantic\\main.py:755\u001b[0m, in \u001b[0;36mBaseModel.__getattr__\u001b[1;34m(self, item)\u001b[0m\n\u001b[0;32m    753\u001b[0m         \u001b[38;5;28;01mreturn\u001b[39;00m pydantic_extra[item]\n\u001b[0;32m    754\u001b[0m     \u001b[38;5;28;01mexcept\u001b[39;00m \u001b[38;5;167;01mKeyError\u001b[39;00m \u001b[38;5;28;01mas\u001b[39;00m exc:\n\u001b[1;32m--> 755\u001b[0m         \u001b[38;5;28;01mraise\u001b[39;00m \u001b[38;5;167;01mAttributeError\u001b[39;00m(\u001b[38;5;124mf\u001b[39m\u001b[38;5;124m'\u001b[39m\u001b[38;5;132;01m{\u001b[39;00m\u001b[38;5;28mtype\u001b[39m(\u001b[38;5;28mself\u001b[39m)\u001b[38;5;241m.\u001b[39m\u001b[38;5;18m__name__\u001b[39m\u001b[38;5;132;01m!r}\u001b[39;00m\u001b[38;5;124m object has no attribute \u001b[39m\u001b[38;5;132;01m{\u001b[39;00mitem\u001b[38;5;132;01m!r}\u001b[39;00m\u001b[38;5;124m'\u001b[39m) \u001b[38;5;28;01mfrom\u001b[39;00m \u001b[38;5;21;01mexc\u001b[39;00m\n\u001b[0;32m    756\u001b[0m \u001b[38;5;28;01melse\u001b[39;00m:\n\u001b[0;32m    757\u001b[0m     \u001b[38;5;28;01mif\u001b[39;00m \u001b[38;5;28mhasattr\u001b[39m(\u001b[38;5;28mself\u001b[39m\u001b[38;5;241m.\u001b[39m\u001b[38;5;18m__class__\u001b[39m, item):\n",
      "\u001b[1;31mAttributeError\u001b[0m: 'ChatCompletion' object has no attribute 'content'"
     ]
    }
   ],
   "source": [
    "from sqlite_utils import Database\n",
    "from datetime import datetime\n",
    "\n",
    "# Initialize the database\n",
    "db = Database(\"video_data.db\")\n",
    "table = \"video_analysis\"\n",
    "\n",
    "# Check for duplicate video_id\n",
    "if not db[table].exists() or not any(row['video_id'] == video_id for row in db[table].rows):\n",
    "    # Insert a new row into the video_analysis table\n",
    "    db[table].insert({\n",
    "        \"datetime\": datetime.now(),\n",
    "        \"video_id\": video_id,\n",
    "        \"transcript\": full_transcript,\n",
    "        \"model\": model,\n",
    "        \"ai_explanation\": response.content[1].text\n",
    "    })\n",
    "else:\n",
    "    print(f\"Video ID {video_id} already exists in the database.\")"
   ]
  },
  {
   "cell_type": "markdown",
   "metadata": {},
   "source": [
    "## Possible future work:\n",
    "\n",
    "To enhance the morning summary for a day trader focusing on cryptocurrency, you can incorporate additional data points that provide a comprehensive view of the market. Here are some suggestions:\n",
    "\n",
    "1. **Market Sentiment Analysis**:\n",
    "   - Use sentiment analysis tools to gauge the overall market sentiment from social media platforms like Twitter, Reddit, and crypto forums.\n",
    "   - Incorporate sentiment scores or trends to provide insights into the general mood of the market.\n",
    "\n",
    "2. **Technical Indicators**:\n",
    "   - Include key technical indicators such as moving averages (e.g., 50-day, 200-day), RSI (Relative Strength Index), MACD (Moving Average Convergence Divergence), and Bollinger Bands.\n",
    "   - Highlight any significant technical patterns or signals (e.g., golden cross, death cross).\n",
    "   - Ben Cowan (into the crypto verso): bull market support band, dominance\n",
    "\n",
    "3. **News and Events**:\n",
    "   - Summarize recent news articles or headlines that could impact the crypto market, such as regulatory changes, major partnerships, or technological advancements.\n",
    "   - Include a calendar of upcoming events like earnings reports, economic data releases, or major conferences.\n",
    "\n",
    "4. **On-Chain Data**:\n",
    "   - Provide insights from on-chain data such as transaction volumes, active addresses, and large transactions (whale movements).\n",
    "   - Highlight any unusual activity that could indicate market manipulation or significant interest.\n",
    "\n",
    "5. **Volatility Index**:\n",
    "   - Include a measure of market volatility, such as the Crypto Volatility Index (CVI), to help traders assess potential risk levels.\n",
    "\n",
    "6. **Exchange Flows**:\n",
    "   - Track the inflow and outflow of cryptocurrencies on major exchanges to identify potential buying or selling pressure.\n",
    "\n",
    "7. **Correlation with Other Markets**:\n",
    "   - Analyze the correlation between cryptocurrencies and other asset classes like stocks, gold, or fiat currencies to understand broader market trends.\n",
    "\n",
    "8. **Regulatory Updates**:\n",
    "   - Provide updates on any regulatory developments that could affect the crypto market, such as new laws or enforcement actions.\n",
    "\n",
    "9. **Macro-Economic Indicators**:\n",
    "   - Include relevant macroeconomic indicators such as interest rates, inflation data, and employment figures that could influence market sentiment.\n",
    "\n",
    "10. **Community and Developer Activity**:\n",
    "    - Track activity on platforms like GitHub to gauge the level of development and community engagement for specific cryptocurrencies.\n",
    "\n",
    "By incorporating these data points, you can provide a more holistic and actionable morning summary for day traders in the crypto market."
   ]
  },
  {
   "cell_type": "markdown",
   "metadata": {},
   "source": [
    "## Experiments"
   ]
  },
  {
   "cell_type": "code",
   "execution_count": null,
   "metadata": {},
   "outputs": [
    {
     "name": "stdout",
     "output_type": "stream",
     "text": [
      "Requirement already satisfied: tradingview-ta in c:\\users\\dup\\dev\\.venv\\lib\\site-packages (3.3.0)\n",
      "Requirement already satisfied: requests in c:\\users\\dup\\dev\\.venv\\lib\\site-packages (from tradingview-ta) (2.32.3)\n",
      "Requirement already satisfied: charset-normalizer<4,>=2 in c:\\users\\dup\\dev\\.venv\\lib\\site-packages (from requests->tradingview-ta) (3.4.1)\n",
      "Requirement already satisfied: idna<4,>=2.5 in c:\\users\\dup\\dev\\.venv\\lib\\site-packages (from requests->tradingview-ta) (3.10)\n",
      "Requirement already satisfied: urllib3<3,>=1.21.1 in c:\\users\\dup\\dev\\.venv\\lib\\site-packages (from requests->tradingview-ta) (2.3.0)\n",
      "Requirement already satisfied: certifi>=2017.4.17 in c:\\users\\dup\\dev\\.venv\\lib\\site-packages (from requests->tradingview-ta) (2025.1.31)\n",
      "Note: you may need to restart the kernel to use updated packages.\n"
     ]
    },
    {
     "name": "stderr",
     "output_type": "stream",
     "text": [
      "\n",
      "[notice] A new release of pip is available: 24.1.2 -> 25.0.1\n",
      "[notice] To update, run: python.exe -m pip install --upgrade pip\n"
     ]
    }
   ],
   "source": [
    "%pip install tradingview-ta"
   ]
  },
  {
   "cell_type": "code",
   "execution_count": null,
   "metadata": {},
   "outputs": [
    {
     "name": "stdout",
     "output_type": "stream",
     "text": [
      "BTCUSDT Futures {'RECOMMENDATION': 'SELL', 'BUY': 3, 'SELL': 14, 'NEUTRAL': 9}\n"
     ]
    }
   ],
   "source": [
    "from tradingview_ta import TA_Handler, Interval, Exchange\n",
    "\n",
    "btc = TA_Handler(\n",
    "    symbol=\"BTCUSDT.P\",\n",
    "    screener=\"crypto\",\n",
    "    exchange=\"binance\",\n",
    "    interval=Interval.INTERVAL_1_DAY\n",
    ")\n",
    "print(\"BTCUSDT Futures\", btc.get_analysis().summary)\n",
    "# Example output: {\"RECOMMENDATION\": \"BUY\", \"BUY\": 8, \"NEUTRAL\": 6, \"SELL\": 3}"
   ]
  },
  {
   "cell_type": "code",
   "execution_count": null,
   "metadata": {},
   "outputs": [
    {
     "ename": "SyntaxError",
     "evalue": "invalid syntax (1229904217.py, line 1)",
     "output_type": "error",
     "traceback": [
      "\u001b[1;36m  Cell \u001b[1;32mIn[4], line 1\u001b[1;36m\u001b[0m\n\u001b[1;33m    im okay noy u wanna cojmme back\u001b[0m\n\u001b[1;37m       ^\u001b[0m\n\u001b[1;31mSyntaxError\u001b[0m\u001b[1;31m:\u001b[0m invalid syntax\n"
     ]
    }
   ],
   "source": [
    "im okay noy u wanna cojmme back \n",
    "\n"
   ]
  },
  {
   "cell_type": "code",
   "execution_count": null,
   "metadata": {},
   "outputs": [],
   "source": []
  },
  {
   "cell_type": "code",
   "execution_count": null,
   "metadata": {},
   "outputs": [],
   "source": []
  },
  {
   "cell_type": "code",
   "execution_count": null,
   "metadata": {},
   "outputs": [],
   "source": []
  }
 ],
 "metadata": {
  "kernelspec": {
   "display_name": "Python 3",
   "language": "python",
   "name": "python3"
  },
  "language_info": {
   "codemirror_mode": {
    "name": "ipython",
    "version": 3
   },
   "file_extension": ".py",
   "mimetype": "text/x-python",
   "name": "python",
   "nbconvert_exporter": "python",
   "pygments_lexer": "ipython3",
   "version": "3.12.1"
  }
 },
 "nbformat": 4,
 "nbformat_minor": 2
}
